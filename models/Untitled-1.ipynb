{
 "cells": [
  {
   "cell_type": "code",
   "execution_count": 1,
   "metadata": {},
   "outputs": [
    {
     "name": "stdout",
     "output_type": "stream",
     "text": [
      "Overwriting app.py\n"
     ]
    }
   ],
   "source": [
    "%%writefile app.py\n",
    "import streamlit as st\n",
    "from dummies import *\n",
    "import joblib\n",
    "import pandas as pd\n",
    "model = joblib.load('model.h5')\n",
    "scaler=joblib.load('scaler.h5')\n",
    "input_data=joblib.load('feature.h5')\n",
    "st.title(\"ENHANCING TRAFFIC ACCIDENT CLASSIFICATION USING MACHINE LEARNING\")\n",
    "st.info('The primary goal of this project is to classify traffic accidents into four severity levels, using machine learning techniques')\n",
    "st.info('Severity Level 1: Represents accidents of less severity. These incidents are minor, causing no serious damage or injury.')\n",
    "st.info('Severity Level 2: Represents incidents of moderate severity. These accidents are more serious than Level 1 and may cause moderate injuries.')\n",
    "st.info('Severity Level 3: Represents incidents with a high degree of severity. They are considered serious and can cause significant damage and serious injuries.')\n",
    "st.info('Severity Level 4: Often indicates incidents with the highest degree of severity. These accidents are very serious and can cause significant damage and serious injuries.')\n",
    "Start_Lat = st.number_input('\"Please, enter the rudimentary latitude (Start_Lat) for the location you want to specify.\": ')\n",
    "Start_Lng=st.number_input('\"Please, enter the primitive longitude (Start_Lng) for the location you want to specify.\": ')\n",
    "Des=st.number_input('Enter the distance affected by the accident in miles: ')\n",
    "Temperature_F = st.number_input(\"Please enter the temperature in Fahrenheit Temperature(F) at the relevant location.\")\n",
    "Wind_Chill_F = st.number_input(\"Please enter wind temperature in Fahrenheit (Wind_Chill(F)) if available at the specified location or time:\")\n",
    "Humidity = st.number_input(\"Please enter humidity (%) in the respective location.(نسبة الرطوبه)\")\n",
    "Pressure = st.number_input(\"Please enter the value of atmospheric pressure in inches (Pressure(in)) at the specified location:\")\n",
    "Visibility_mi = st.number_input(\"Please enter visibility in mileage (mi) at the specified location.(مدى الرؤية بوحدة الأميال)\")\n",
    "Wind_Speed_mph = st.number_input(\"Please enter Wind_Speed(mph) : \")\n",
    "Precipitation_in = st.number_input(\"Please enter precipitation in inches (precipitation(in)) in the specified location.\")\n",
    "Amenity = st.selectbox('Is there a safety permit signal on the road? If yes choose 1(اشارة إذن أمان)', ['1', '0'])\n",
    "Bump = st.selectbox('Are there any obstacles on the way if yes choose 1(هل توجد اي عقبات على الطريق )', ['1', '0'])\n",
    "Crossing = st.selectbox('Is there pedestrian crossing if yes choose 1', ['1', '0'])\n",
    "Give_Way = st.selectbox('Is there a sign \"Give priority if yes choose 1', ['1', '0'])\n",
    "Junction = st.selectbox('Is there a crossover. If yes choose 1(هل يوجود تقاطع)', ['1', '0'])\n",
    "No_Exit = st.selectbox('The presence of the sign No_Exit. If yes choose 1', ['1', '0'])\n",
    "Railway = st.selectbox('Having a railway line if yes Choose 1(خطه سكه حديد)', ['1', '0'])\n",
    "Roundabout = st.selectbox('The presence of a ring road if yes choose 1', ['1', '0'])\n",
    "Station = st.selectbox('The presence of a station. If yes choose 1', ['1', '0'])\n",
    "Stop = st.selectbox('Presence of the sign \"Stop if Yes Select 1', ['1', '0'])\n",
    "Traffic_Calming = st.selectbox('The presence of calming traffic. If yes choose 1(وجود تهدئة حركة المرور)', ['1', '0'])\n",
    "Traffic_Signal = st.selectbox('Traffic_Signal? if yes choose 1', ['1', '0'])\n",
    "Turning_Loop = st.selectbox('Having a ring to rotate if yes choose 1', ['1', '0'])\n",
    "Day_of_accident = st.slider('Day_of_accident', min_value=1, max_value=30)\n",
    "Month_of_accident = st.slider('Month_of_accident', min_value=1, max_value=12)\n",
    "Year_of_accedent = st.number_input('Year_of_accedent: ')\n",
    "Hour_of_starting = st.slider('Hour_of_starting', min_value=0, max_value=23)\n",
    "Minutes_of_starting = st.slider('Minutes_of_starting', min_value=0, max_value=60)\n",
    "Seconds_of_starting = st.slider('Seconds_of_starting', min_value=0, max_value=60)\n",
    "Hour_of_end_accident = st.slider('Hour_of_end_accident', min_value=0, max_value=23)\n",
    "Minutes_of_end_accident = st.slider('Minutes_of_end_accident', min_value=0, max_value=60)\n",
    "Seconds_of_end_accident = st.slider('Seconds_of_end_accident', min_value=0, max_value=60)\n",
    "if st.button('Classify Accident'):\n",
    "    input_data = [Start_Lat, Start_Lng, Des, Temperature_F, Wind_Chill_F, Humidity, Pressure, Visibility_mi, Wind_Speed_mph, Precipitation_in, Amenity, Bump, Crossing, Give_Way, Junction, No_Exit, Railway, Roundabout, Station, Stop]\n",
    "    input_data += [Traffic_Calming, Traffic_Signal, Turning_Loop, Day_of_accident, Month_of_accident, Year_of_accedent, Hour_of_starting, Minutes_of_starting, Seconds_of_starting, Hour_of_end_accident, Minutes_of_end_accident, Seconds_of_end_accident]\n",
    "    pred = model.predict(scaler.transform([input_data]))\n",
    "    result = pred[0]\n",
    "    st.success(\"Predicted Accident Severity: {}\".format(result))\n"
   ]
  },
  {
   "cell_type": "code",
   "execution_count": null,
   "metadata": {},
   "outputs": [],
   "source": [
    "!streamlit run app.py"
   ]
  },
  {
   "cell_type": "code",
   "execution_count": null,
   "metadata": {},
   "outputs": [],
   "source": []
  },
  {
   "cell_type": "code",
   "execution_count": null,
   "metadata": {},
   "outputs": [],
   "source": []
  },
  {
   "cell_type": "code",
   "execution_count": null,
   "metadata": {},
   "outputs": [],
   "source": []
  }
 ],
 "metadata": {
  "kernelspec": {
   "display_name": "Python 3 (ipykernel)",
   "language": "python",
   "name": "python3"
  },
  "language_info": {
   "codemirror_mode": {
    "name": "ipython",
    "version": 3
   },
   "file_extension": ".py",
   "mimetype": "text/x-python",
   "name": "python",
   "nbconvert_exporter": "python",
   "pygments_lexer": "ipython3",
   "version": "3.7.6"
  }
 },
 "nbformat": 4,
 "nbformat_minor": 2
}
