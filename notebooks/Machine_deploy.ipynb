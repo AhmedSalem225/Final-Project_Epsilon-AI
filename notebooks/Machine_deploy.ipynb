{
 "cells": [
  {
   "cell_type": "code",
   "execution_count": 3,
   "metadata": {
    "id": "DXwHVbxIPKRL"
   },
   "outputs": [],
   "source": [
    "import pandas as pd\n",
    "import seaborn as sns\n",
    "from sklearn.model_selection import train_test_split\n",
    "from sklearn.metrics import accuracy_score, classification_report\n",
    "from sklearn.datasets import load_iris\n",
    "from sklearn.preprocessing import LabelEncoder\n",
    "from sklearn.svm import SVC\n",
    "import timeit\n",
    "import joblib\n",
    "from sklearn.preprocessing import StandardScaler\n",
    "from sklearn.neighbors import KNeighborsClassifier\n",
    "from sklearn.metrics import confusion_matrix\n",
    "from sklearn.metrics import recall_score\n",
    "from sklearn.model_selection import cross_val_score, KFold\n",
    "from sklearn.metrics import accuracy_score, classification_report\n",
    "from sklearn.datasets import make_classification\n",
    "from sklearn.metrics import classification_report"
   ]
  },
  {
   "cell_type": "code",
   "execution_count": 3,
   "metadata": {
    "id": "Cb_RXjnvPKRN"
   },
   "outputs": [],
   "source": [
    "df= pd.read_csv(\"/content/Data_for_machine.csv\")"
   ]
  },
  {
   "cell_type": "code",
   "execution_count": 5,
   "metadata": {
    "colab": {
     "base_uri": "https://localhost:8080/",
     "height": 1000
    },
    "id": "4SWWlOtcPKRO",
    "outputId": "f8ad49a6-508a-4618-9d0b-e14ca1a3cf11"
   },
   "outputs": [
    {
     "data": {
      "text/html": [
       "<div>\n",
       "<style scoped>\n",
       "    .dataframe tbody tr th:only-of-type {\n",
       "        vertical-align: middle;\n",
       "    }\n",
       "\n",
       "    .dataframe tbody tr th {\n",
       "        vertical-align: top;\n",
       "    }\n",
       "\n",
       "    .dataframe thead th {\n",
       "        text-align: right;\n",
       "    }\n",
       "</style>\n",
       "<table border=\"1\" class=\"dataframe\">\n",
       "  <thead>\n",
       "    <tr style=\"text-align: right;\">\n",
       "      <th></th>\n",
       "      <th>Unnamed: 0</th>\n",
       "      <th>Unnamed: 0.1.1</th>\n",
       "      <th>ID</th>\n",
       "      <th>Source</th>\n",
       "      <th>Severity</th>\n",
       "      <th>Start_Lat</th>\n",
       "      <th>Start_Lng</th>\n",
       "      <th>Distance(mi)</th>\n",
       "      <th>Description</th>\n",
       "      <th>Street</th>\n",
       "      <th>...</th>\n",
       "      <th>Day_of_accident</th>\n",
       "      <th>Month_of_accident</th>\n",
       "      <th>Year_of_accedent</th>\n",
       "      <th>Hour_of_starting</th>\n",
       "      <th>Minutes_of_starting</th>\n",
       "      <th>Seconds_of_starrting</th>\n",
       "      <th>Hour_of_end_accident</th>\n",
       "      <th>Minutes_of_end_accident</th>\n",
       "      <th>Seconds_of_end_accident</th>\n",
       "      <th>Season</th>\n",
       "    </tr>\n",
       "  </thead>\n",
       "  <tbody>\n",
       "    <tr>\n",
       "      <th>0</th>\n",
       "      <td>0</td>\n",
       "      <td>5</td>\n",
       "      <td>A-6</td>\n",
       "      <td>Source2</td>\n",
       "      <td>3</td>\n",
       "      <td>40.100590</td>\n",
       "      <td>-82.925194</td>\n",
       "      <td>0.010</td>\n",
       "      <td>Accident on I-270 Outerbelt Northbound near Ex...</td>\n",
       "      <td>Westerville Rd</td>\n",
       "      <td>...</td>\n",
       "      <td>8</td>\n",
       "      <td>2</td>\n",
       "      <td>2016</td>\n",
       "      <td>7</td>\n",
       "      <td>44</td>\n",
       "      <td>26</td>\n",
       "      <td>8</td>\n",
       "      <td>14</td>\n",
       "      <td>26</td>\n",
       "      <td>Winter</td>\n",
       "    </tr>\n",
       "    <tr>\n",
       "      <th>1</th>\n",
       "      <td>1</td>\n",
       "      <td>9</td>\n",
       "      <td>A-10</td>\n",
       "      <td>Source2</td>\n",
       "      <td>3</td>\n",
       "      <td>40.100590</td>\n",
       "      <td>-82.925194</td>\n",
       "      <td>0.010</td>\n",
       "      <td>Right hand shoulder blocked due to accident on...</td>\n",
       "      <td>Westerville Rd</td>\n",
       "      <td>...</td>\n",
       "      <td>8</td>\n",
       "      <td>2</td>\n",
       "      <td>2016</td>\n",
       "      <td>8</td>\n",
       "      <td>10</td>\n",
       "      <td>4</td>\n",
       "      <td>8</td>\n",
       "      <td>40</td>\n",
       "      <td>4</td>\n",
       "      <td>Winter</td>\n",
       "    </tr>\n",
       "    <tr>\n",
       "      <th>2</th>\n",
       "      <td>2</td>\n",
       "      <td>11</td>\n",
       "      <td>A-12</td>\n",
       "      <td>Source2</td>\n",
       "      <td>3</td>\n",
       "      <td>39.932709</td>\n",
       "      <td>-82.830910</td>\n",
       "      <td>0.010</td>\n",
       "      <td>One lane blocked due to accident on I-70 Westb...</td>\n",
       "      <td>I-70 E</td>\n",
       "      <td>...</td>\n",
       "      <td>8</td>\n",
       "      <td>2</td>\n",
       "      <td>2016</td>\n",
       "      <td>8</td>\n",
       "      <td>21</td>\n",
       "      <td>27</td>\n",
       "      <td>8</td>\n",
       "      <td>51</td>\n",
       "      <td>27</td>\n",
       "      <td>Winter</td>\n",
       "    </tr>\n",
       "    <tr>\n",
       "      <th>3</th>\n",
       "      <td>3</td>\n",
       "      <td>14</td>\n",
       "      <td>A-15</td>\n",
       "      <td>Source2</td>\n",
       "      <td>2</td>\n",
       "      <td>39.972038</td>\n",
       "      <td>-82.913521</td>\n",
       "      <td>0.010</td>\n",
       "      <td>Accident on OH-16 Broad St at James Rd. Expect...</td>\n",
       "      <td>E Broad St</td>\n",
       "      <td>...</td>\n",
       "      <td>8</td>\n",
       "      <td>2</td>\n",
       "      <td>2016</td>\n",
       "      <td>8</td>\n",
       "      <td>39</td>\n",
       "      <td>43</td>\n",
       "      <td>9</td>\n",
       "      <td>9</td>\n",
       "      <td>43</td>\n",
       "      <td>Winter</td>\n",
       "    </tr>\n",
       "    <tr>\n",
       "      <th>4</th>\n",
       "      <td>4</td>\n",
       "      <td>20</td>\n",
       "      <td>A-21</td>\n",
       "      <td>Source2</td>\n",
       "      <td>2</td>\n",
       "      <td>40.052509</td>\n",
       "      <td>-82.882332</td>\n",
       "      <td>0.000</td>\n",
       "      <td>Accident on Brookhill Dr at Glenhurst Ct.</td>\n",
       "      <td>Brookhill Dr</td>\n",
       "      <td>...</td>\n",
       "      <td>8</td>\n",
       "      <td>2</td>\n",
       "      <td>2016</td>\n",
       "      <td>10</td>\n",
       "      <td>11</td>\n",
       "      <td>15</td>\n",
       "      <td>10</td>\n",
       "      <td>41</td>\n",
       "      <td>15</td>\n",
       "      <td>Winter</td>\n",
       "    </tr>\n",
       "    <tr>\n",
       "      <th>...</th>\n",
       "      <td>...</td>\n",
       "      <td>...</td>\n",
       "      <td>...</td>\n",
       "      <td>...</td>\n",
       "      <td>...</td>\n",
       "      <td>...</td>\n",
       "      <td>...</td>\n",
       "      <td>...</td>\n",
       "      <td>...</td>\n",
       "      <td>...</td>\n",
       "      <td>...</td>\n",
       "      <td>...</td>\n",
       "      <td>...</td>\n",
       "      <td>...</td>\n",
       "      <td>...</td>\n",
       "      <td>...</td>\n",
       "      <td>...</td>\n",
       "      <td>...</td>\n",
       "      <td>...</td>\n",
       "      <td>...</td>\n",
       "      <td>...</td>\n",
       "    </tr>\n",
       "    <tr>\n",
       "      <th>2671943</th>\n",
       "      <td>2727927</td>\n",
       "      <td>4804854</td>\n",
       "      <td>A-4841313</td>\n",
       "      <td>Source1</td>\n",
       "      <td>2</td>\n",
       "      <td>40.846891</td>\n",
       "      <td>-73.933542</td>\n",
       "      <td>0.080</td>\n",
       "      <td>Crash on George Washington Bridge Lower Level ...</td>\n",
       "      <td>I-95 N</td>\n",
       "      <td>...</td>\n",
       "      <td>31</td>\n",
       "      <td>1</td>\n",
       "      <td>2023</td>\n",
       "      <td>11</td>\n",
       "      <td>18</td>\n",
       "      <td>0</td>\n",
       "      <td>13</td>\n",
       "      <td>49</td>\n",
       "      <td>26</td>\n",
       "      <td>Winter</td>\n",
       "    </tr>\n",
       "    <tr>\n",
       "      <th>2671944</th>\n",
       "      <td>2727928</td>\n",
       "      <td>4804855</td>\n",
       "      <td>A-4841314</td>\n",
       "      <td>Source1</td>\n",
       "      <td>2</td>\n",
       "      <td>40.847642</td>\n",
       "      <td>-73.934966</td>\n",
       "      <td>0.090</td>\n",
       "      <td>Incident on GEORGE WASHINGTON BRG EB near MANH...</td>\n",
       "      <td>I-95 N</td>\n",
       "      <td>...</td>\n",
       "      <td>20</td>\n",
       "      <td>9</td>\n",
       "      <td>2022</td>\n",
       "      <td>6</td>\n",
       "      <td>42</td>\n",
       "      <td>22</td>\n",
       "      <td>11</td>\n",
       "      <td>19</td>\n",
       "      <td>58</td>\n",
       "      <td>Autumn</td>\n",
       "    </tr>\n",
       "    <tr>\n",
       "      <th>2671945</th>\n",
       "      <td>2727929</td>\n",
       "      <td>4804856</td>\n",
       "      <td>A-4841315</td>\n",
       "      <td>Source1</td>\n",
       "      <td>4</td>\n",
       "      <td>40.847252</td>\n",
       "      <td>-73.934070</td>\n",
       "      <td>0.036</td>\n",
       "      <td>US-1 N - Trans-Manhattan Expy E - I-95 N is cl...</td>\n",
       "      <td>I-95 N</td>\n",
       "      <td>...</td>\n",
       "      <td>12</td>\n",
       "      <td>9</td>\n",
       "      <td>2022</td>\n",
       "      <td>13</td>\n",
       "      <td>53</td>\n",
       "      <td>53</td>\n",
       "      <td>15</td>\n",
       "      <td>59</td>\n",
       "      <td>0</td>\n",
       "      <td>Autumn</td>\n",
       "    </tr>\n",
       "    <tr>\n",
       "      <th>2671946</th>\n",
       "      <td>2727930</td>\n",
       "      <td>4804857</td>\n",
       "      <td>A-4841316</td>\n",
       "      <td>Source1</td>\n",
       "      <td>2</td>\n",
       "      <td>40.847934</td>\n",
       "      <td>-73.935634</td>\n",
       "      <td>0.084</td>\n",
       "      <td>Incident on I-95 near I-95 Drive with caution.</td>\n",
       "      <td>I-95 N</td>\n",
       "      <td>...</td>\n",
       "      <td>7</td>\n",
       "      <td>9</td>\n",
       "      <td>2022</td>\n",
       "      <td>16</td>\n",
       "      <td>48</td>\n",
       "      <td>59</td>\n",
       "      <td>18</td>\n",
       "      <td>52</td>\n",
       "      <td>29</td>\n",
       "      <td>Autumn</td>\n",
       "    </tr>\n",
       "    <tr>\n",
       "      <th>2671947</th>\n",
       "      <td>2727931</td>\n",
       "      <td>4804859</td>\n",
       "      <td>A-4841318</td>\n",
       "      <td>Source1</td>\n",
       "      <td>2</td>\n",
       "      <td>40.847015</td>\n",
       "      <td>-73.933462</td>\n",
       "      <td>0.141</td>\n",
       "      <td>Port Authority NY/NJ: Crash on George Washingt...</td>\n",
       "      <td>I-95 N</td>\n",
       "      <td>...</td>\n",
       "      <td>10</td>\n",
       "      <td>7</td>\n",
       "      <td>2022</td>\n",
       "      <td>10</td>\n",
       "      <td>42</td>\n",
       "      <td>4</td>\n",
       "      <td>12</td>\n",
       "      <td>50</td>\n",
       "      <td>59</td>\n",
       "      <td>Summer</td>\n",
       "    </tr>\n",
       "  </tbody>\n",
       "</table>\n",
       "<p>2671948 rows × 51 columns</p>\n",
       "</div>"
      ],
      "text/plain": [
       "         Unnamed: 0  Unnamed: 0.1.1         ID   Source  Severity  Start_Lat  \\\n",
       "0                 0               5        A-6  Source2         3  40.100590   \n",
       "1                 1               9       A-10  Source2         3  40.100590   \n",
       "2                 2              11       A-12  Source2         3  39.932709   \n",
       "3                 3              14       A-15  Source2         2  39.972038   \n",
       "4                 4              20       A-21  Source2         2  40.052509   \n",
       "...             ...             ...        ...      ...       ...        ...   \n",
       "2671943     2727927         4804854  A-4841313  Source1         2  40.846891   \n",
       "2671944     2727928         4804855  A-4841314  Source1         2  40.847642   \n",
       "2671945     2727929         4804856  A-4841315  Source1         4  40.847252   \n",
       "2671946     2727930         4804857  A-4841316  Source1         2  40.847934   \n",
       "2671947     2727931         4804859  A-4841318  Source1         2  40.847015   \n",
       "\n",
       "         Start_Lng  Distance(mi)  \\\n",
       "0       -82.925194         0.010   \n",
       "1       -82.925194         0.010   \n",
       "2       -82.830910         0.010   \n",
       "3       -82.913521         0.010   \n",
       "4       -82.882332         0.000   \n",
       "...            ...           ...   \n",
       "2671943 -73.933542         0.080   \n",
       "2671944 -73.934966         0.090   \n",
       "2671945 -73.934070         0.036   \n",
       "2671946 -73.935634         0.084   \n",
       "2671947 -73.933462         0.141   \n",
       "\n",
       "                                               Description          Street  \\\n",
       "0        Accident on I-270 Outerbelt Northbound near Ex...  Westerville Rd   \n",
       "1        Right hand shoulder blocked due to accident on...  Westerville Rd   \n",
       "2        One lane blocked due to accident on I-70 Westb...          I-70 E   \n",
       "3        Accident on OH-16 Broad St at James Rd. Expect...      E Broad St   \n",
       "4                Accident on Brookhill Dr at Glenhurst Ct.    Brookhill Dr   \n",
       "...                                                    ...             ...   \n",
       "2671943  Crash on George Washington Bridge Lower Level ...          I-95 N   \n",
       "2671944  Incident on GEORGE WASHINGTON BRG EB near MANH...          I-95 N   \n",
       "2671945  US-1 N - Trans-Manhattan Expy E - I-95 N is cl...          I-95 N   \n",
       "2671946     Incident on I-95 near I-95 Drive with caution.          I-95 N   \n",
       "2671947  Port Authority NY/NJ: Crash on George Washingt...          I-95 N   \n",
       "\n",
       "         ... Day_of_accident Month_of_accident Year_of_accedent  \\\n",
       "0        ...               8                 2             2016   \n",
       "1        ...               8                 2             2016   \n",
       "2        ...               8                 2             2016   \n",
       "3        ...               8                 2             2016   \n",
       "4        ...               8                 2             2016   \n",
       "...      ...             ...               ...              ...   \n",
       "2671943  ...              31                 1             2023   \n",
       "2671944  ...              20                 9             2022   \n",
       "2671945  ...              12                 9             2022   \n",
       "2671946  ...               7                 9             2022   \n",
       "2671947  ...              10                 7             2022   \n",
       "\n",
       "        Hour_of_starting Minutes_of_starting Seconds_of_starrting  \\\n",
       "0                      7                  44                   26   \n",
       "1                      8                  10                    4   \n",
       "2                      8                  21                   27   \n",
       "3                      8                  39                   43   \n",
       "4                     10                  11                   15   \n",
       "...                  ...                 ...                  ...   \n",
       "2671943               11                  18                    0   \n",
       "2671944                6                  42                   22   \n",
       "2671945               13                  53                   53   \n",
       "2671946               16                  48                   59   \n",
       "2671947               10                  42                    4   \n",
       "\n",
       "        Hour_of_end_accident Minutes_of_end_accident  Seconds_of_end_accident  \\\n",
       "0                          8                      14                       26   \n",
       "1                          8                      40                        4   \n",
       "2                          8                      51                       27   \n",
       "3                          9                       9                       43   \n",
       "4                         10                      41                       15   \n",
       "...                      ...                     ...                      ...   \n",
       "2671943                   13                      49                       26   \n",
       "2671944                   11                      19                       58   \n",
       "2671945                   15                      59                        0   \n",
       "2671946                   18                      52                       29   \n",
       "2671947                   12                      50                       59   \n",
       "\n",
       "         Season  \n",
       "0        Winter  \n",
       "1        Winter  \n",
       "2        Winter  \n",
       "3        Winter  \n",
       "4        Winter  \n",
       "...         ...  \n",
       "2671943  Winter  \n",
       "2671944  Autumn  \n",
       "2671945  Autumn  \n",
       "2671946  Autumn  \n",
       "2671947  Summer  \n",
       "\n",
       "[2671948 rows x 51 columns]"
      ]
     },
     "execution_count": 5,
     "metadata": {},
     "output_type": "execute_result"
    }
   ],
   "source": [
    "df"
   ]
  },
  {
   "cell_type": "code",
   "execution_count": 6,
   "metadata": {
    "colab": {
     "base_uri": "https://localhost:8080/"
    },
    "id": "TMTT6OvKPKRP",
    "outputId": "6ebd49fe-1977-4014-afb6-2aae19efb910"
   },
   "outputs": [
    {
     "name": "stdout",
     "output_type": "stream",
     "text": [
      "<class 'pandas.core.frame.DataFrame'>\n",
      "RangeIndex: 2671948 entries, 0 to 2671947\n",
      "Data columns (total 51 columns):\n",
      " #   Column                   Dtype  \n",
      "---  ------                   -----  \n",
      " 0   Unnamed: 0               int64  \n",
      " 1   Unnamed: 0.1.1           int64  \n",
      " 2   ID                       object \n",
      " 3   Source                   object \n",
      " 4   Severity                 int64  \n",
      " 5   Start_Lat                float64\n",
      " 6   Start_Lng                float64\n",
      " 7   Distance(mi)             float64\n",
      " 8   Description              object \n",
      " 9   Street                   object \n",
      " 10  City                     object \n",
      " 11  County                   object \n",
      " 12  State                    object \n",
      " 13  Zipcode                  object \n",
      " 14  Country                  object \n",
      " 15  Timezone                 object \n",
      " 16  Airport_Code             object \n",
      " 17  Weather_Timestamp        object \n",
      " 18  Temperature(F)           float64\n",
      " 19  Wind_Chill(F)            float64\n",
      " 20  Humidity(%)              float64\n",
      " 21  Pressure(in)             float64\n",
      " 22  Visibility(mi)           float64\n",
      " 23  Wind_Direction           object \n",
      " 24  Wind_Speed(mph)          float64\n",
      " 25  Precipitation(in)        float64\n",
      " 26  Weather_Condition        object \n",
      " 27  Amenity                  bool   \n",
      " 28  Bump                     bool   \n",
      " 29  Crossing                 bool   \n",
      " 30  Give_Way                 bool   \n",
      " 31  Junction                 bool   \n",
      " 32  No_Exit                  bool   \n",
      " 33  Railway                  bool   \n",
      " 34  Roundabout               bool   \n",
      " 35  Station                  bool   \n",
      " 36  Stop                     bool   \n",
      " 37  Traffic_Calming          bool   \n",
      " 38  Traffic_Signal           bool   \n",
      " 39  Turning_Loop             bool   \n",
      " 40  Sunrise_Sunset           object \n",
      " 41  Day_of_accident          int64  \n",
      " 42  Month_of_accident        int64  \n",
      " 43  Year_of_accedent         int64  \n",
      " 44  Hour_of_starting         int64  \n",
      " 45  Minutes_of_starting      int64  \n",
      " 46  Seconds_of_starrting     int64  \n",
      " 47  Hour_of_end_accident     int64  \n",
      " 48  Minutes_of_end_accident  int64  \n",
      " 49  Seconds_of_end_accident  int64  \n",
      " 50  Season                   object \n",
      "dtypes: bool(13), float64(10), int64(12), object(16)\n",
      "memory usage: 807.8+ MB\n"
     ]
    }
   ],
   "source": [
    "df.info()"
   ]
  },
  {
   "cell_type": "code",
   "execution_count": 7,
   "metadata": {
    "colab": {
     "base_uri": "https://localhost:8080/"
    },
    "id": "it9YkYC7PKRP",
    "outputId": "ce090b0b-4fd4-4f36-bb15-a9e171f51358"
   },
   "outputs": [
    {
     "data": {
      "text/plain": [
       "Index(['Unnamed: 0', 'Unnamed: 0.1.1', 'ID', 'Source', 'Severity', 'Start_Lat',\n",
       "       'Start_Lng', 'Distance(mi)', 'Description', 'Street', 'City', 'County',\n",
       "       'State', 'Zipcode', 'Country', 'Timezone', 'Airport_Code',\n",
       "       'Weather_Timestamp', 'Temperature(F)', 'Wind_Chill(F)', 'Humidity(%)',\n",
       "       'Pressure(in)', 'Visibility(mi)', 'Wind_Direction', 'Wind_Speed(mph)',\n",
       "       'Precipitation(in)', 'Weather_Condition', 'Amenity', 'Bump', 'Crossing',\n",
       "       'Give_Way', 'Junction', 'No_Exit', 'Railway', 'Roundabout', 'Station',\n",
       "       'Stop', 'Traffic_Calming', 'Traffic_Signal', 'Turning_Loop',\n",
       "       'Sunrise_Sunset', 'Day_of_accident', 'Month_of_accident',\n",
       "       'Year_of_accedent', 'Hour_of_starting', 'Minutes_of_starting',\n",
       "       'Seconds_of_starrting', 'Hour_of_end_accident',\n",
       "       'Minutes_of_end_accident', 'Seconds_of_end_accident', 'Season'],\n",
       "      dtype='object')"
      ]
     },
     "execution_count": 7,
     "metadata": {},
     "output_type": "execute_result"
    }
   ],
   "source": [
    "df.columns"
   ]
  },
  {
   "cell_type": "code",
   "execution_count": 8,
   "metadata": {
    "id": "wj3z2QMqPKRQ"
   },
   "outputs": [],
   "source": [
    "#drop un nessciary columns\n",
    "\n",
    "df.drop(['Unnamed: 0', 'ID', 'Source','Description', 'Street', 'City', 'County', 'State','Zipcode', 'Country', 'Timezone', 'Airport_Code', 'Weather_Timestamp','Weather_Condition','Wind_Direction','Sunrise_Sunset','Season'],axis=1,inplace=True)"
   ]
  },
  {
   "cell_type": "code",
   "execution_count": 9,
   "metadata": {
    "id": "N7CRcN9KPKRQ"
   },
   "outputs": [],
   "source": [
    "df.drop_duplicates(inplace=True)"
   ]
  },
  {
   "cell_type": "code",
   "execution_count": 10,
   "metadata": {
    "colab": {
     "base_uri": "https://localhost:8080/"
    },
    "id": "TeS5T-vEPKRQ",
    "outputId": "afda26ea-f5f7-4322-a9d8-61aaa4473fef"
   },
   "outputs": [
    {
     "name": "stdout",
     "output_type": "stream",
     "text": [
      "<class 'pandas.core.frame.DataFrame'>\n",
      "Int64Index: 2671948 entries, 0 to 2671947\n",
      "Data columns (total 34 columns):\n",
      " #   Column                   Dtype  \n",
      "---  ------                   -----  \n",
      " 0   Unnamed: 0.1.1           int64  \n",
      " 1   Severity                 int64  \n",
      " 2   Start_Lat                float64\n",
      " 3   Start_Lng                float64\n",
      " 4   Distance(mi)             float64\n",
      " 5   Temperature(F)           float64\n",
      " 6   Wind_Chill(F)            float64\n",
      " 7   Humidity(%)              float64\n",
      " 8   Pressure(in)             float64\n",
      " 9   Visibility(mi)           float64\n",
      " 10  Wind_Speed(mph)          float64\n",
      " 11  Precipitation(in)        float64\n",
      " 12  Amenity                  bool   \n",
      " 13  Bump                     bool   \n",
      " 14  Crossing                 bool   \n",
      " 15  Give_Way                 bool   \n",
      " 16  Junction                 bool   \n",
      " 17  No_Exit                  bool   \n",
      " 18  Railway                  bool   \n",
      " 19  Roundabout               bool   \n",
      " 20  Station                  bool   \n",
      " 21  Stop                     bool   \n",
      " 22  Traffic_Calming          bool   \n",
      " 23  Traffic_Signal           bool   \n",
      " 24  Turning_Loop             bool   \n",
      " 25  Day_of_accident          int64  \n",
      " 26  Month_of_accident        int64  \n",
      " 27  Year_of_accedent         int64  \n",
      " 28  Hour_of_starting         int64  \n",
      " 29  Minutes_of_starting      int64  \n",
      " 30  Seconds_of_starrting     int64  \n",
      " 31  Hour_of_end_accident     int64  \n",
      " 32  Minutes_of_end_accident  int64  \n",
      " 33  Seconds_of_end_accident  int64  \n",
      "dtypes: bool(13), float64(10), int64(11)\n",
      "memory usage: 481.6 MB\n"
     ]
    }
   ],
   "source": [
    "df.info()"
   ]
  },
  {
   "cell_type": "code",
   "execution_count": 11,
   "metadata": {
    "colab": {
     "base_uri": "https://localhost:8080/",
     "height": 461
    },
    "id": "sjvH162fPKRR",
    "outputId": "1cc26e58-052a-4f03-a19f-931d6d45baca"
   },
   "outputs": [
    {
     "data": {
      "text/html": [
       "<div>\n",
       "<style scoped>\n",
       "    .dataframe tbody tr th:only-of-type {\n",
       "        vertical-align: middle;\n",
       "    }\n",
       "\n",
       "    .dataframe tbody tr th {\n",
       "        vertical-align: top;\n",
       "    }\n",
       "\n",
       "    .dataframe thead th {\n",
       "        text-align: right;\n",
       "    }\n",
       "</style>\n",
       "<table border=\"1\" class=\"dataframe\">\n",
       "  <thead>\n",
       "    <tr style=\"text-align: right;\">\n",
       "      <th></th>\n",
       "      <th>Unnamed: 0.1.1</th>\n",
       "      <th>Severity</th>\n",
       "      <th>Start_Lat</th>\n",
       "      <th>Start_Lng</th>\n",
       "      <th>Distance(mi)</th>\n",
       "      <th>Temperature(F)</th>\n",
       "      <th>Wind_Chill(F)</th>\n",
       "      <th>Humidity(%)</th>\n",
       "      <th>Pressure(in)</th>\n",
       "      <th>Visibility(mi)</th>\n",
       "      <th>...</th>\n",
       "      <th>Crossing_True</th>\n",
       "      <th>Give_Way_True</th>\n",
       "      <th>Junction_True</th>\n",
       "      <th>No_Exit_True</th>\n",
       "      <th>Railway_True</th>\n",
       "      <th>Roundabout_True</th>\n",
       "      <th>Station_True</th>\n",
       "      <th>Stop_True</th>\n",
       "      <th>Traffic_Calming_True</th>\n",
       "      <th>Traffic_Signal_True</th>\n",
       "    </tr>\n",
       "  </thead>\n",
       "  <tbody>\n",
       "    <tr>\n",
       "      <th>0</th>\n",
       "      <td>5</td>\n",
       "      <td>3</td>\n",
       "      <td>40.100590</td>\n",
       "      <td>-82.925194</td>\n",
       "      <td>0.010</td>\n",
       "      <td>37.9</td>\n",
       "      <td>35.5</td>\n",
       "      <td>97.0</td>\n",
       "      <td>29.63</td>\n",
       "      <td>7.0</td>\n",
       "      <td>...</td>\n",
       "      <td>0</td>\n",
       "      <td>0</td>\n",
       "      <td>0</td>\n",
       "      <td>0</td>\n",
       "      <td>0</td>\n",
       "      <td>0</td>\n",
       "      <td>0</td>\n",
       "      <td>0</td>\n",
       "      <td>0</td>\n",
       "      <td>0</td>\n",
       "    </tr>\n",
       "    <tr>\n",
       "      <th>1</th>\n",
       "      <td>9</td>\n",
       "      <td>3</td>\n",
       "      <td>40.100590</td>\n",
       "      <td>-82.925194</td>\n",
       "      <td>0.010</td>\n",
       "      <td>37.4</td>\n",
       "      <td>33.8</td>\n",
       "      <td>100.0</td>\n",
       "      <td>29.62</td>\n",
       "      <td>3.0</td>\n",
       "      <td>...</td>\n",
       "      <td>0</td>\n",
       "      <td>0</td>\n",
       "      <td>0</td>\n",
       "      <td>0</td>\n",
       "      <td>0</td>\n",
       "      <td>0</td>\n",
       "      <td>0</td>\n",
       "      <td>0</td>\n",
       "      <td>0</td>\n",
       "      <td>0</td>\n",
       "    </tr>\n",
       "    <tr>\n",
       "      <th>2</th>\n",
       "      <td>11</td>\n",
       "      <td>3</td>\n",
       "      <td>39.932709</td>\n",
       "      <td>-82.830910</td>\n",
       "      <td>0.010</td>\n",
       "      <td>37.4</td>\n",
       "      <td>33.8</td>\n",
       "      <td>100.0</td>\n",
       "      <td>29.62</td>\n",
       "      <td>3.0</td>\n",
       "      <td>...</td>\n",
       "      <td>0</td>\n",
       "      <td>0</td>\n",
       "      <td>0</td>\n",
       "      <td>0</td>\n",
       "      <td>0</td>\n",
       "      <td>0</td>\n",
       "      <td>0</td>\n",
       "      <td>0</td>\n",
       "      <td>0</td>\n",
       "      <td>0</td>\n",
       "    </tr>\n",
       "    <tr>\n",
       "      <th>3</th>\n",
       "      <td>14</td>\n",
       "      <td>2</td>\n",
       "      <td>39.972038</td>\n",
       "      <td>-82.913521</td>\n",
       "      <td>0.010</td>\n",
       "      <td>37.4</td>\n",
       "      <td>33.8</td>\n",
       "      <td>100.0</td>\n",
       "      <td>29.62</td>\n",
       "      <td>3.0</td>\n",
       "      <td>...</td>\n",
       "      <td>0</td>\n",
       "      <td>0</td>\n",
       "      <td>0</td>\n",
       "      <td>0</td>\n",
       "      <td>0</td>\n",
       "      <td>0</td>\n",
       "      <td>0</td>\n",
       "      <td>0</td>\n",
       "      <td>0</td>\n",
       "      <td>1</td>\n",
       "    </tr>\n",
       "    <tr>\n",
       "      <th>4</th>\n",
       "      <td>20</td>\n",
       "      <td>2</td>\n",
       "      <td>40.052509</td>\n",
       "      <td>-82.882332</td>\n",
       "      <td>0.000</td>\n",
       "      <td>33.8</td>\n",
       "      <td>29.6</td>\n",
       "      <td>100.0</td>\n",
       "      <td>29.62</td>\n",
       "      <td>2.0</td>\n",
       "      <td>...</td>\n",
       "      <td>0</td>\n",
       "      <td>0</td>\n",
       "      <td>0</td>\n",
       "      <td>0</td>\n",
       "      <td>0</td>\n",
       "      <td>0</td>\n",
       "      <td>0</td>\n",
       "      <td>0</td>\n",
       "      <td>0</td>\n",
       "      <td>0</td>\n",
       "    </tr>\n",
       "    <tr>\n",
       "      <th>...</th>\n",
       "      <td>...</td>\n",
       "      <td>...</td>\n",
       "      <td>...</td>\n",
       "      <td>...</td>\n",
       "      <td>...</td>\n",
       "      <td>...</td>\n",
       "      <td>...</td>\n",
       "      <td>...</td>\n",
       "      <td>...</td>\n",
       "      <td>...</td>\n",
       "      <td>...</td>\n",
       "      <td>...</td>\n",
       "      <td>...</td>\n",
       "      <td>...</td>\n",
       "      <td>...</td>\n",
       "      <td>...</td>\n",
       "      <td>...</td>\n",
       "      <td>...</td>\n",
       "      <td>...</td>\n",
       "      <td>...</td>\n",
       "      <td>...</td>\n",
       "    </tr>\n",
       "    <tr>\n",
       "      <th>2671943</th>\n",
       "      <td>4804854</td>\n",
       "      <td>2</td>\n",
       "      <td>40.846891</td>\n",
       "      <td>-73.933542</td>\n",
       "      <td>0.080</td>\n",
       "      <td>36.0</td>\n",
       "      <td>36.0</td>\n",
       "      <td>73.0</td>\n",
       "      <td>30.13</td>\n",
       "      <td>10.0</td>\n",
       "      <td>...</td>\n",
       "      <td>1</td>\n",
       "      <td>0</td>\n",
       "      <td>1</td>\n",
       "      <td>0</td>\n",
       "      <td>0</td>\n",
       "      <td>0</td>\n",
       "      <td>0</td>\n",
       "      <td>0</td>\n",
       "      <td>0</td>\n",
       "      <td>1</td>\n",
       "    </tr>\n",
       "    <tr>\n",
       "      <th>2671944</th>\n",
       "      <td>4804855</td>\n",
       "      <td>2</td>\n",
       "      <td>40.847642</td>\n",
       "      <td>-73.934966</td>\n",
       "      <td>0.090</td>\n",
       "      <td>67.0</td>\n",
       "      <td>67.0</td>\n",
       "      <td>84.0</td>\n",
       "      <td>29.77</td>\n",
       "      <td>10.0</td>\n",
       "      <td>...</td>\n",
       "      <td>1</td>\n",
       "      <td>0</td>\n",
       "      <td>0</td>\n",
       "      <td>0</td>\n",
       "      <td>0</td>\n",
       "      <td>0</td>\n",
       "      <td>0</td>\n",
       "      <td>0</td>\n",
       "      <td>0</td>\n",
       "      <td>0</td>\n",
       "    </tr>\n",
       "    <tr>\n",
       "      <th>2671945</th>\n",
       "      <td>4804856</td>\n",
       "      <td>4</td>\n",
       "      <td>40.847252</td>\n",
       "      <td>-73.934070</td>\n",
       "      <td>0.036</td>\n",
       "      <td>80.0</td>\n",
       "      <td>80.0</td>\n",
       "      <td>62.0</td>\n",
       "      <td>29.75</td>\n",
       "      <td>10.0</td>\n",
       "      <td>...</td>\n",
       "      <td>0</td>\n",
       "      <td>0</td>\n",
       "      <td>0</td>\n",
       "      <td>0</td>\n",
       "      <td>0</td>\n",
       "      <td>0</td>\n",
       "      <td>0</td>\n",
       "      <td>0</td>\n",
       "      <td>0</td>\n",
       "      <td>0</td>\n",
       "    </tr>\n",
       "    <tr>\n",
       "      <th>2671946</th>\n",
       "      <td>4804857</td>\n",
       "      <td>2</td>\n",
       "      <td>40.847934</td>\n",
       "      <td>-73.935634</td>\n",
       "      <td>0.084</td>\n",
       "      <td>72.0</td>\n",
       "      <td>72.0</td>\n",
       "      <td>68.0</td>\n",
       "      <td>29.87</td>\n",
       "      <td>10.0</td>\n",
       "      <td>...</td>\n",
       "      <td>0</td>\n",
       "      <td>0</td>\n",
       "      <td>0</td>\n",
       "      <td>0</td>\n",
       "      <td>0</td>\n",
       "      <td>0</td>\n",
       "      <td>0</td>\n",
       "      <td>0</td>\n",
       "      <td>0</td>\n",
       "      <td>0</td>\n",
       "    </tr>\n",
       "    <tr>\n",
       "      <th>2671947</th>\n",
       "      <td>4804859</td>\n",
       "      <td>2</td>\n",
       "      <td>40.847015</td>\n",
       "      <td>-73.933462</td>\n",
       "      <td>0.141</td>\n",
       "      <td>73.0</td>\n",
       "      <td>73.0</td>\n",
       "      <td>46.0</td>\n",
       "      <td>30.01</td>\n",
       "      <td>10.0</td>\n",
       "      <td>...</td>\n",
       "      <td>1</td>\n",
       "      <td>0</td>\n",
       "      <td>1</td>\n",
       "      <td>0</td>\n",
       "      <td>0</td>\n",
       "      <td>0</td>\n",
       "      <td>0</td>\n",
       "      <td>0</td>\n",
       "      <td>0</td>\n",
       "      <td>0</td>\n",
       "    </tr>\n",
       "  </tbody>\n",
       "</table>\n",
       "<p>2671948 rows × 33 columns</p>\n",
       "</div>"
      ],
      "text/plain": [
       "         Unnamed: 0.1.1  Severity  Start_Lat  Start_Lng  Distance(mi)  \\\n",
       "0                     5         3  40.100590 -82.925194         0.010   \n",
       "1                     9         3  40.100590 -82.925194         0.010   \n",
       "2                    11         3  39.932709 -82.830910         0.010   \n",
       "3                    14         2  39.972038 -82.913521         0.010   \n",
       "4                    20         2  40.052509 -82.882332         0.000   \n",
       "...                 ...       ...        ...        ...           ...   \n",
       "2671943         4804854         2  40.846891 -73.933542         0.080   \n",
       "2671944         4804855         2  40.847642 -73.934966         0.090   \n",
       "2671945         4804856         4  40.847252 -73.934070         0.036   \n",
       "2671946         4804857         2  40.847934 -73.935634         0.084   \n",
       "2671947         4804859         2  40.847015 -73.933462         0.141   \n",
       "\n",
       "         Temperature(F)  Wind_Chill(F)  Humidity(%)  Pressure(in)  \\\n",
       "0                  37.9           35.5         97.0         29.63   \n",
       "1                  37.4           33.8        100.0         29.62   \n",
       "2                  37.4           33.8        100.0         29.62   \n",
       "3                  37.4           33.8        100.0         29.62   \n",
       "4                  33.8           29.6        100.0         29.62   \n",
       "...                 ...            ...          ...           ...   \n",
       "2671943            36.0           36.0         73.0         30.13   \n",
       "2671944            67.0           67.0         84.0         29.77   \n",
       "2671945            80.0           80.0         62.0         29.75   \n",
       "2671946            72.0           72.0         68.0         29.87   \n",
       "2671947            73.0           73.0         46.0         30.01   \n",
       "\n",
       "         Visibility(mi)  ...  Crossing_True  Give_Way_True  Junction_True  \\\n",
       "0                   7.0  ...              0              0              0   \n",
       "1                   3.0  ...              0              0              0   \n",
       "2                   3.0  ...              0              0              0   \n",
       "3                   3.0  ...              0              0              0   \n",
       "4                   2.0  ...              0              0              0   \n",
       "...                 ...  ...            ...            ...            ...   \n",
       "2671943            10.0  ...              1              0              1   \n",
       "2671944            10.0  ...              1              0              0   \n",
       "2671945            10.0  ...              0              0              0   \n",
       "2671946            10.0  ...              0              0              0   \n",
       "2671947            10.0  ...              1              0              1   \n",
       "\n",
       "         No_Exit_True  Railway_True  Roundabout_True  Station_True  Stop_True  \\\n",
       "0                   0             0                0             0          0   \n",
       "1                   0             0                0             0          0   \n",
       "2                   0             0                0             0          0   \n",
       "3                   0             0                0             0          0   \n",
       "4                   0             0                0             0          0   \n",
       "...               ...           ...              ...           ...        ...   \n",
       "2671943             0             0                0             0          0   \n",
       "2671944             0             0                0             0          0   \n",
       "2671945             0             0                0             0          0   \n",
       "2671946             0             0                0             0          0   \n",
       "2671947             0             0                0             0          0   \n",
       "\n",
       "         Traffic_Calming_True  Traffic_Signal_True  \n",
       "0                           0                    0  \n",
       "1                           0                    0  \n",
       "2                           0                    0  \n",
       "3                           0                    1  \n",
       "4                           0                    0  \n",
       "...                       ...                  ...  \n",
       "2671943                     0                    1  \n",
       "2671944                     0                    0  \n",
       "2671945                     0                    0  \n",
       "2671946                     0                    0  \n",
       "2671947                     0                    0  \n",
       "\n",
       "[2671948 rows x 33 columns]"
      ]
     },
     "execution_count": 11,
     "metadata": {},
     "output_type": "execute_result"
    }
   ],
   "source": [
    "pd.get_dummies(df,columns=['Amenity','Bump','Crossing','Give_Way', 'Junction', 'No_Exit', 'Railway', 'Roundabout', 'Station','Stop', 'Traffic_Calming', 'Traffic_Signal', 'Turning_Loop'],drop_first=True)\n"
   ]
  },
  {
   "cell_type": "code",
   "execution_count": 12,
   "metadata": {
    "colab": {
     "base_uri": "https://localhost:8080/"
    },
    "id": "IGM3YOgcPKRT",
    "outputId": "8a18470f-2cf6-4af9-8751-38d4326946f0"
   },
   "outputs": [
    {
     "name": "stdout",
     "output_type": "stream",
     "text": [
      "<class 'pandas.core.frame.DataFrame'>\n",
      "Int64Index: 2671948 entries, 0 to 2671947\n",
      "Data columns (total 34 columns):\n",
      " #   Column                   Dtype  \n",
      "---  ------                   -----  \n",
      " 0   Unnamed: 0.1.1           int64  \n",
      " 1   Severity                 int64  \n",
      " 2   Start_Lat                float64\n",
      " 3   Start_Lng                float64\n",
      " 4   Distance(mi)             float64\n",
      " 5   Temperature(F)           float64\n",
      " 6   Wind_Chill(F)            float64\n",
      " 7   Humidity(%)              float64\n",
      " 8   Pressure(in)             float64\n",
      " 9   Visibility(mi)           float64\n",
      " 10  Wind_Speed(mph)          float64\n",
      " 11  Precipitation(in)        float64\n",
      " 12  Amenity                  bool   \n",
      " 13  Bump                     bool   \n",
      " 14  Crossing                 bool   \n",
      " 15  Give_Way                 bool   \n",
      " 16  Junction                 bool   \n",
      " 17  No_Exit                  bool   \n",
      " 18  Railway                  bool   \n",
      " 19  Roundabout               bool   \n",
      " 20  Station                  bool   \n",
      " 21  Stop                     bool   \n",
      " 22  Traffic_Calming          bool   \n",
      " 23  Traffic_Signal           bool   \n",
      " 24  Turning_Loop             bool   \n",
      " 25  Day_of_accident          int64  \n",
      " 26  Month_of_accident        int64  \n",
      " 27  Year_of_accedent         int64  \n",
      " 28  Hour_of_starting         int64  \n",
      " 29  Minutes_of_starting      int64  \n",
      " 30  Seconds_of_starrting     int64  \n",
      " 31  Hour_of_end_accident     int64  \n",
      " 32  Minutes_of_end_accident  int64  \n",
      " 33  Seconds_of_end_accident  int64  \n",
      "dtypes: bool(13), float64(10), int64(11)\n",
      "memory usage: 481.6 MB\n"
     ]
    }
   ],
   "source": [
    "df.info()"
   ]
  },
  {
   "cell_type": "markdown",
   "metadata": {
    "id": "OChN0lMxTALe"
   },
   "source": [
    "## Preprocessing"
   ]
  },
  {
   "cell_type": "code",
   "execution_count": 13,
   "metadata": {
    "id": "-D0LPeIIS_ju"
   },
   "outputs": [],
   "source": [
    "sampled_dff = df.sample(frac=0.6, random_state=42)\n",
    "sampled_dff.dropna(inplace=True)"
   ]
  },
  {
   "cell_type": "code",
   "execution_count": 14,
   "metadata": {
    "id": "yO7o7_6ATKFB"
   },
   "outputs": [
    {
     "data": {
      "text/plain": [
       "Index(['Unnamed: 0.1.1', 'Severity', 'Start_Lat', 'Start_Lng', 'Distance(mi)',\n",
       "       'Temperature(F)', 'Wind_Chill(F)', 'Humidity(%)', 'Pressure(in)',\n",
       "       'Visibility(mi)', 'Wind_Speed(mph)', 'Precipitation(in)', 'Amenity',\n",
       "       'Bump', 'Crossing', 'Give_Way', 'Junction', 'No_Exit', 'Railway',\n",
       "       'Roundabout', 'Station', 'Stop', 'Traffic_Calming', 'Traffic_Signal',\n",
       "       'Turning_Loop', 'Day_of_accident', 'Month_of_accident',\n",
       "       'Year_of_accedent', 'Hour_of_starting', 'Minutes_of_starting',\n",
       "       'Seconds_of_starrting', 'Hour_of_end_accident',\n",
       "       'Minutes_of_end_accident', 'Seconds_of_end_accident'],\n",
       "      dtype='object')"
      ]
     },
     "execution_count": 14,
     "metadata": {},
     "output_type": "execute_result"
    }
   ],
   "source": [
    "sampled_dff.columns"
   ]
  },
  {
   "cell_type": "code",
   "execution_count": 15,
   "metadata": {
    "id": "DAfKVwK-WdI5"
   },
   "outputs": [],
   "source": [
    "sampled_dff.drop(columns = [\"Unnamed: 0.1.1\"],axis = 1 , inplace = True)"
   ]
  },
  {
   "cell_type": "code",
   "execution_count": 16,
   "metadata": {
    "id": "evRHQr1qPKRT"
   },
   "outputs": [],
   "source": [
    "X = sampled_dff.drop('Severity', axis=1)\n",
    "y= sampled_dff['Severity']"
   ]
  },
  {
   "cell_type": "code",
   "execution_count": 17,
   "metadata": {
    "id": "_v1YuQIoPKRU"
   },
   "outputs": [],
   "source": [
    "feature = X.columns.tolist()"
   ]
  },
  {
   "cell_type": "code",
   "execution_count": 18,
   "metadata": {
    "id": "cP3w6Z3ZUVq-"
   },
   "outputs": [],
   "source": [
    "numerical_features = X.columns"
   ]
  },
  {
   "cell_type": "code",
   "execution_count": 19,
   "metadata": {
    "colab": {
     "base_uri": "https://localhost:8080/"
    },
    "id": "8h84-_0JPKRU",
    "outputId": "db34fe1c-708d-4414-eb06-36db7d19c7a1"
   },
   "outputs": [
    {
     "data": {
      "text/plain": [
       "['feature.h5']"
      ]
     },
     "execution_count": 19,
     "metadata": {},
     "output_type": "execute_result"
    }
   ],
   "source": [
    "joblib.dump(feature,'feature.h5')"
   ]
  },
  {
   "cell_type": "code",
   "execution_count": 16,
   "metadata": {
    "colab": {
     "base_uri": "https://localhost:8080/",
     "height": 273
    },
    "id": "X1rYzcvRUAHX",
    "outputId": "7230a6f0-e492-43ba-defe-96a02f8064c8"
   },
   "outputs": [
    {
     "data": {
      "text/html": [
       "<div>\n",
       "<style scoped>\n",
       "    .dataframe tbody tr th:only-of-type {\n",
       "        vertical-align: middle;\n",
       "    }\n",
       "\n",
       "    .dataframe tbody tr th {\n",
       "        vertical-align: top;\n",
       "    }\n",
       "\n",
       "    .dataframe thead th {\n",
       "        text-align: right;\n",
       "    }\n",
       "</style>\n",
       "<table border=\"1\" class=\"dataframe\">\n",
       "  <thead>\n",
       "    <tr style=\"text-align: right;\">\n",
       "      <th></th>\n",
       "      <th>Severity</th>\n",
       "      <th>Start_Lat</th>\n",
       "      <th>Start_Lng</th>\n",
       "      <th>Distance(mi)</th>\n",
       "      <th>Temperature(F)</th>\n",
       "      <th>Wind_Chill(F)</th>\n",
       "      <th>Humidity(%)</th>\n",
       "      <th>Pressure(in)</th>\n",
       "      <th>Visibility(mi)</th>\n",
       "      <th>Wind_Speed(mph)</th>\n",
       "      <th>...</th>\n",
       "      <th>Turning_Loop</th>\n",
       "      <th>Day_of_accident</th>\n",
       "      <th>Month_of_accident</th>\n",
       "      <th>Year_of_accedent</th>\n",
       "      <th>Hour_of_starting</th>\n",
       "      <th>Minutes_of_starting</th>\n",
       "      <th>Seconds_of_starrting</th>\n",
       "      <th>Hour_of_end_accident</th>\n",
       "      <th>Minutes_of_end_accident</th>\n",
       "      <th>Seconds_of_end_accident</th>\n",
       "    </tr>\n",
       "  </thead>\n",
       "  <tbody>\n",
       "    <tr>\n",
       "      <th>2585246</th>\n",
       "      <td>2</td>\n",
       "      <td>35.172145</td>\n",
       "      <td>-80.852314</td>\n",
       "      <td>0.073</td>\n",
       "      <td>82.0</td>\n",
       "      <td>82.0</td>\n",
       "      <td>47.0</td>\n",
       "      <td>29.04</td>\n",
       "      <td>10.0</td>\n",
       "      <td>16.0</td>\n",
       "      <td>...</td>\n",
       "      <td>False</td>\n",
       "      <td>27</td>\n",
       "      <td>5</td>\n",
       "      <td>2022</td>\n",
       "      <td>16</td>\n",
       "      <td>16</td>\n",
       "      <td>39</td>\n",
       "      <td>18</td>\n",
       "      <td>19</td>\n",
       "      <td>27</td>\n",
       "    </tr>\n",
       "    <tr>\n",
       "      <th>2574459</th>\n",
       "      <td>2</td>\n",
       "      <td>27.937794</td>\n",
       "      <td>-82.278158</td>\n",
       "      <td>0.936</td>\n",
       "      <td>86.0</td>\n",
       "      <td>86.0</td>\n",
       "      <td>62.0</td>\n",
       "      <td>30.01</td>\n",
       "      <td>10.0</td>\n",
       "      <td>10.0</td>\n",
       "      <td>...</td>\n",
       "      <td>False</td>\n",
       "      <td>8</td>\n",
       "      <td>11</td>\n",
       "      <td>2022</td>\n",
       "      <td>14</td>\n",
       "      <td>25</td>\n",
       "      <td>0</td>\n",
       "      <td>15</td>\n",
       "      <td>42</td>\n",
       "      <td>0</td>\n",
       "    </tr>\n",
       "    <tr>\n",
       "      <th>1279050</th>\n",
       "      <td>2</td>\n",
       "      <td>36.061050</td>\n",
       "      <td>-96.004028</td>\n",
       "      <td>0.000</td>\n",
       "      <td>93.0</td>\n",
       "      <td>93.0</td>\n",
       "      <td>44.0</td>\n",
       "      <td>29.26</td>\n",
       "      <td>10.0</td>\n",
       "      <td>0.0</td>\n",
       "      <td>...</td>\n",
       "      <td>False</td>\n",
       "      <td>3</td>\n",
       "      <td>9</td>\n",
       "      <td>2019</td>\n",
       "      <td>16</td>\n",
       "      <td>42</td>\n",
       "      <td>28</td>\n",
       "      <td>18</td>\n",
       "      <td>27</td>\n",
       "      <td>51</td>\n",
       "    </tr>\n",
       "    <tr>\n",
       "      <th>2227241</th>\n",
       "      <td>2</td>\n",
       "      <td>40.454291</td>\n",
       "      <td>-111.914014</td>\n",
       "      <td>0.074</td>\n",
       "      <td>27.0</td>\n",
       "      <td>27.0</td>\n",
       "      <td>92.0</td>\n",
       "      <td>25.98</td>\n",
       "      <td>1.0</td>\n",
       "      <td>0.0</td>\n",
       "      <td>...</td>\n",
       "      <td>False</td>\n",
       "      <td>24</td>\n",
       "      <td>1</td>\n",
       "      <td>2023</td>\n",
       "      <td>22</td>\n",
       "      <td>22</td>\n",
       "      <td>34</td>\n",
       "      <td>23</td>\n",
       "      <td>37</td>\n",
       "      <td>36</td>\n",
       "    </tr>\n",
       "    <tr>\n",
       "      <th>2671769</th>\n",
       "      <td>2</td>\n",
       "      <td>28.640191</td>\n",
       "      <td>-81.435573</td>\n",
       "      <td>0.492</td>\n",
       "      <td>83.0</td>\n",
       "      <td>83.0</td>\n",
       "      <td>69.0</td>\n",
       "      <td>29.93</td>\n",
       "      <td>10.0</td>\n",
       "      <td>13.0</td>\n",
       "      <td>...</td>\n",
       "      <td>False</td>\n",
       "      <td>20</td>\n",
       "      <td>5</td>\n",
       "      <td>2022</td>\n",
       "      <td>17</td>\n",
       "      <td>59</td>\n",
       "      <td>43</td>\n",
       "      <td>20</td>\n",
       "      <td>19</td>\n",
       "      <td>17</td>\n",
       "    </tr>\n",
       "  </tbody>\n",
       "</table>\n",
       "<p>5 rows × 33 columns</p>\n",
       "</div>"
      ],
      "text/plain": [
       "         Severity  Start_Lat   Start_Lng  Distance(mi)  Temperature(F)  \\\n",
       "2585246         2  35.172145  -80.852314         0.073            82.0   \n",
       "2574459         2  27.937794  -82.278158         0.936            86.0   \n",
       "1279050         2  36.061050  -96.004028         0.000            93.0   \n",
       "2227241         2  40.454291 -111.914014         0.074            27.0   \n",
       "2671769         2  28.640191  -81.435573         0.492            83.0   \n",
       "\n",
       "         Wind_Chill(F)  Humidity(%)  Pressure(in)  Visibility(mi)  \\\n",
       "2585246           82.0         47.0         29.04            10.0   \n",
       "2574459           86.0         62.0         30.01            10.0   \n",
       "1279050           93.0         44.0         29.26            10.0   \n",
       "2227241           27.0         92.0         25.98             1.0   \n",
       "2671769           83.0         69.0         29.93            10.0   \n",
       "\n",
       "         Wind_Speed(mph)  ...  Turning_Loop  Day_of_accident  \\\n",
       "2585246             16.0  ...         False               27   \n",
       "2574459             10.0  ...         False                8   \n",
       "1279050              0.0  ...         False                3   \n",
       "2227241              0.0  ...         False               24   \n",
       "2671769             13.0  ...         False               20   \n",
       "\n",
       "         Month_of_accident  Year_of_accedent  Hour_of_starting  \\\n",
       "2585246                  5              2022                16   \n",
       "2574459                 11              2022                14   \n",
       "1279050                  9              2019                16   \n",
       "2227241                  1              2023                22   \n",
       "2671769                  5              2022                17   \n",
       "\n",
       "         Minutes_of_starting  Seconds_of_starrting  Hour_of_end_accident  \\\n",
       "2585246                   16                    39                    18   \n",
       "2574459                   25                     0                    15   \n",
       "1279050                   42                    28                    18   \n",
       "2227241                   22                    34                    23   \n",
       "2671769                   59                    43                    20   \n",
       "\n",
       "         Minutes_of_end_accident  Seconds_of_end_accident  \n",
       "2585246                       19                       27  \n",
       "2574459                       42                        0  \n",
       "1279050                       27                       51  \n",
       "2227241                       37                       36  \n",
       "2671769                       19                       17  \n",
       "\n",
       "[5 rows x 33 columns]"
      ]
     },
     "execution_count": 16,
     "metadata": {},
     "output_type": "execute_result"
    }
   ],
   "source": [
    "sampled_dff.head(5)"
   ]
  },
  {
   "cell_type": "code",
   "execution_count": 21,
   "metadata": {
    "id": "zvzMoXHqPKRV"
   },
   "outputs": [],
   "source": [
    "start= timeit.default_timer()"
   ]
  },
  {
   "cell_type": "code",
   "execution_count": 22,
   "metadata": {
    "id": "a-6K0UxrUj5e"
   },
   "outputs": [],
   "source": [
    "from sklearn.model_selection import train_test_split\n",
    "\n",
    "X_train, X_test, y_train, y_test = train_test_split(X, y, test_size=0.2, random_state=42)"
   ]
  },
  {
   "cell_type": "code",
   "execution_count": 24,
   "metadata": {
    "id": "iPteZgP2T54f"
   },
   "outputs": [],
   "source": [
    "from sklearn.preprocessing import StandardScaler\n",
    "from sklearn.compose import ColumnTransformer\n",
    "from sklearn.pipeline import Pipeline\n",
    "\n",
    "numerical_transformer = Pipeline(steps=[('scaler', StandardScaler())])\n",
    "\n",
    "# Define the preprocessor\n",
    "preprocessor = ColumnTransformer(\n",
    "    transformers=[\n",
    "        ('num', numerical_transformer, numerical_features)\n",
    "    ]\n",
    ")"
   ]
  },
  {
   "cell_type": "code",
   "execution_count": 25,
   "metadata": {
    "id": "midZwYd6PKRV"
   },
   "outputs": [],
   "source": [
    "X_train_preprocessed = preprocessor.fit_transform(X_train)\n",
    "X_test_preprocessed = preprocessor.transform(X_test)"
   ]
  },
  {
   "cell_type": "code",
   "execution_count": 26,
   "metadata": {
    "colab": {
     "base_uri": "https://localhost:8080/"
    },
    "id": "tUdeBQToVMw-",
    "outputId": "9d7b7ee4-f508-4317-db36-8aa832d8eea5"
   },
   "outputs": [
    {
     "data": {
      "text/plain": [
       "['scaler.h5']"
      ]
     },
     "execution_count": 26,
     "metadata": {},
     "output_type": "execute_result"
    }
   ],
   "source": [
    "joblib.dump(preprocessor,'scaler.h5')"
   ]
  },
  {
   "cell_type": "markdown",
   "metadata": {
    "id": "HmsRfTZeVWXL"
   },
   "source": [
    "## Models"
   ]
  },
  {
   "cell_type": "markdown",
   "metadata": {
    "id": "0_ugc_dLVZ2G"
   },
   "source": [
    "#### LogisticRegression"
   ]
  },
  {
   "cell_type": "code",
   "execution_count": null,
   "metadata": {
    "colab": {
     "base_uri": "https://localhost:8080/"
    },
    "id": "X7Y5hdijPKRV",
    "outputId": "18b21233-f2c6-4898-fe7d-6542e2cde836"
   },
   "outputs": [
    {
     "name": "stdout",
     "output_type": "stream",
     "text": [
      "Accuracy: 0.6720588235294118\n",
      "Classification Report:\n",
      "              precision    recall  f1-score   support\n",
      "\n",
      "           1       0.00      0.00      0.00         1\n",
      "           2       0.72      0.82      0.76       436\n",
      "           3       0.57      0.43      0.49       242\n",
      "           4       0.00      0.00      0.00         1\n",
      "\n",
      "    accuracy                           0.68       680\n",
      "   macro avg       0.32      0.31      0.31       680\n",
      "weighted avg       0.66      0.68      0.66       680\n",
      "\n"
     ]
    }
   ],
   "source": [
    "from sklearn.linear_model import LogisticRegression\n",
    "\n",
    "model = LogisticRegression(max_iter=1000)\n",
    "model.fit(X_train_preprocessed,y_train)\n",
    "y_pred = model.predict(X_test_preprocessed)\n",
    "accuracy = accuracy_score(y_test, y_pred)\n",
    "#classification_report = classification_report(y_test, y_pred)"
   ]
  },
  {
   "cell_type": "code",
   "execution_count": null,
   "metadata": {
    "colab": {
     "base_uri": "https://localhost:8080/"
    },
    "id": "o6e74x0_ZEOj",
    "outputId": "9c963e86-8c55-47d6-abd3-81020ef719aa"
   },
   "outputs": [
    {
     "name": "stdout",
     "output_type": "stream",
     "text": [
      "Accuracy: 0.6720588235294118\n",
      "Classification Report:\n",
      "<function classification_report at 0x7de893e17520>\n"
     ]
    }
   ],
   "source": [
    "print(f'Accuracy: {accuracy}')\n",
    "print(f'Classification Report:\\n{classification_report}')"
   ]
  },
  {
   "cell_type": "code",
   "execution_count": null,
   "metadata": {
    "id": "Z7PFEX9WPKRW"
   },
   "outputs": [],
   "source": [
    "stop= timeit.default_timer()"
   ]
  },
  {
   "cell_type": "code",
   "execution_count": null,
   "metadata": {
    "colab": {
     "base_uri": "https://localhost:8080/"
    },
    "id": "gpREr52WPKRW",
    "outputId": "2c44d103-5b9a-46cd-b5ff-4243adeb1b6b"
   },
   "outputs": [
    {
     "name": "stdout",
     "output_type": "stream",
     "text": [
      "Run Time 247.6347497490001\n"
     ]
    }
   ],
   "source": [
    "print(\"Run Time\", stop - start)"
   ]
  },
  {
   "cell_type": "markdown",
   "metadata": {
    "id": "xiV5qDo7bDAb"
   },
   "source": [
    "### KNeighborsClassifier"
   ]
  },
  {
   "cell_type": "code",
   "execution_count": null,
   "metadata": {
    "id": "1qRUcYp0jmmq"
   },
   "outputs": [],
   "source": [
    "from sklearn.datasets import make_classification\n",
    "\n",
    "# Generate a large dataset\n",
    "X,y = make_classification(n_samples=5000000, n_features=20, n_classes=4, n_clusters_per_class=1, n_informative=2, random_state=42)"
   ]
  },
  {
   "cell_type": "code",
   "execution_count": null,
   "metadata": {
    "id": "tYSzSEXijmpH"
   },
   "outputs": [],
   "source": [
    "from sklearn.model_selection import train_test_split\n",
    "\n",
    "# Split the dataset into training and test sets\n",
    "X_train, X_test, y_train, y_test = train_test_split(X, y, test_size=0.2, random_state=42)"
   ]
  },
  {
   "cell_type": "code",
   "execution_count": null,
   "metadata": {
    "id": "xM07f9atjmrd"
   },
   "outputs": [],
   "source": [
    "from sklearn.preprocessing import StandardScaler\n",
    "\n",
    "scaler = StandardScaler()\n",
    "X_train_preprocessed = scaler.fit_transform(X_train)\n",
    "X_test_preprocessed = scaler.fit_transform(X_test)"
   ]
  },
  {
   "cell_type": "code",
   "execution_count": null,
   "metadata": {
    "colab": {
     "base_uri": "https://localhost:8080/"
    },
    "id": "l2s60CutbCUl",
    "outputId": "a24251e7-30ff-4701-c0e1-0c947905d2e9"
   },
   "outputs": [
    {
     "name": "stdout",
     "output_type": "stream",
     "text": [
      "Accuracy: 0.83928\n",
      "Classification Report:\n",
      "              precision    recall  f1-score   support\n",
      "\n",
      "           0       0.82      0.86      0.84    250738\n",
      "           1       0.90      0.99      0.94    250709\n",
      "           2       0.79      0.78      0.78    248949\n",
      "           3       0.84      0.73      0.78    249604\n",
      "\n",
      "    accuracy                           0.84   1000000\n",
      "   macro avg       0.84      0.84      0.84   1000000\n",
      "weighted avg       0.84      0.84      0.84   1000000\n",
      "\n"
     ]
    }
   ],
   "source": [
    "from sklearn.neighbors import KNeighborsClassifier\n",
    "from sklearn.metrics import accuracy_score, classification_report\n",
    "import timeit\n",
    "\n",
    "# Start the timer\n",
    "start = timeit.default_timer()\n",
    "\n",
    "# Initialize the KNeighborsClassifier model\n",
    "KNeighborsClassifier = KNeighborsClassifier()\n",
    "\n",
    "# Fit the model\n",
    "KNeighborsClassifier.fit(X_train_preprocessed, y_train)\n",
    "\n",
    "# Predict the test set\n",
    "y_pred = KNeighborsClassifier.predict(X_test_preprocessed)\n",
    "\n",
    "# Compute accuracy and classification report\n",
    "accuracy = accuracy_score(y_test, y_pred)\n",
    "classification_report_str = classification_report(y_test, y_pred)\n",
    "\n",
    "# Print results\n",
    "print(f'Accuracy: {accuracy}')\n",
    "print(f'Classification Report:\\n{classification_report_str}')\n",
    "\n"
   ]
  },
  {
   "cell_type": "markdown",
   "metadata": {
    "id": "Ulj9hkQ_e6fQ"
   },
   "source": [
    "### Support Vector Classifier (SVC)"
   ]
  },
  {
   "cell_type": "code",
   "execution_count": null,
   "metadata": {
    "id": "XG4ZUY9wbCbg"
   },
   "outputs": [],
   "source": [
    "from sklearn.metrics import accuracy_score, classification_report\n",
    "import timeit\n",
    "\n",
    "# Initialize the SVC model\n",
    "SVC = SVC()\n",
    "# Fit the model\n",
    "SVC.fit(X_train_preprocessed, y_train)\n",
    "\n",
    "# Predict the test set\n",
    "y_pred = SVC.predict(X_test_preprocessed)\n",
    "\n",
    "# Compute accuracy and classification report\n",
    "accuracy = accuracy_score(y_test, y_pred)\n",
    "classification_report_str = classification_report(y_test, y_pred)\n",
    "\n",
    "# Print results\n",
    "print(f'Accuracy: {accuracy}')\n",
    "print(f'Classification Report:\\n{classification_report_str}')\n"
   ]
  },
  {
   "cell_type": "code",
   "execution_count": null,
   "metadata": {
    "id": "9mHykONWpqoQ"
   },
   "outputs": [],
   "source": [
    "# Stop the timer\n",
    "stop = timeit.default_timer()\n",
    "print(f'Time taken: {stop - start} seconds')\n"
   ]
  },
  {
   "cell_type": "markdown",
   "metadata": {
    "id": "lMTViHkYk0iv"
   },
   "source": [
    "## Cross validaion & Hyper parameter tunning"
   ]
  },
  {
   "cell_type": "code",
   "execution_count": 27,
   "metadata": {
    "id": "-EacAv25wcYa"
   },
   "outputs": [],
   "source": [
    "import timeit\n",
    "from sklearn.datasets import make_classification\n",
    "from sklearn.model_selection import train_test_split, RandomizedSearchCV\n",
    "from sklearn.preprocessing import StandardScaler, PolynomialFeatures\n",
    "from sklearn.svm import SVC\n",
    "from sklearn.linear_model import LogisticRegression\n",
    "from sklearn.neighbors import KNeighborsClassifier\n",
    "from sklearn.metrics import accuracy_score, classification_report\n",
    "from scipy.stats import uniform, randint\n",
    "\n",
    "# Define parameter grids for each model\n",
    "\n",
    "# For SVC\n",
    "svc_param_distributions = {\n",
    "    'C': [0.1, 1, 10, 100],  # Expanded range of regularization strengths\n",
    "    'kernel': ['poly'],  # Polynomial kernel only\n",
    "    'degree': randint(2, 5),  # Polynomial degrees from 2 to 4\n",
    "    'gamma': uniform(loc=0.001, scale=1)\n",
    "}\n",
    "# For LogisticRegression\n",
    "logreg_param_distributions = {\n",
    "    'clf__penalty': ['l2', 'l1',\"elasticnet\"],\n",
    "    'clf__C': [1, 10, 100],  # Regularization strength\n",
    "    'clf__solver': ['saga']  # Solver options\n",
    "}\n",
    "# For KNeighborsClassifier\n",
    "knn_param_distributions = {\n",
    "    'n_neighbors': randint(1, 50),\n",
    "    'weights': ['uniform', 'distance'],\n",
    "    'p': [1, 2]\n",
    "}\n"
   ]
  },
  {
   "cell_type": "code",
   "execution_count": 28,
   "metadata": {
    "id": "JaINgXhSyOBG"
   },
   "outputs": [],
   "source": [
    "# Initialize models\n",
    "svc = SVC()\n",
    "logreg_pipeline = Pipeline([\n",
    "    ('clf', LogisticRegression(max_iter=1000))\n",
    "])\n",
    "knn = KNeighborsClassifier()"
   ]
  },
  {
   "cell_type": "code",
   "execution_count": 29,
   "metadata": {
    "id": "ZDLVYQUyyOET"
   },
   "outputs": [],
   "source": [
    "#Randomized grid search\n",
    "kfold = KFold(n_splits=5, shuffle=True, random_state=42)\n",
    "svc_search = RandomizedSearchCV(\n",
    "    estimator=svc,\n",
    "    param_distributions=svc_param_distributions,\n",
    "    n_iter=50,\n",
    "    cv=kfold,\n",
    "    n_jobs=-1,\n",
    "    random_state=42\n",
    ")\n",
    "logreg_search = RandomizedSearchCV(\n",
    "    estimator=logreg_pipeline,\n",
    "    param_distributions=logreg_param_distributions,\n",
    "    n_iter=50,\n",
    "    cv=kfold,\n",
    "    n_jobs=-1,\n",
    "    random_state=42\n",
    ")\n",
    "\n",
    "knn_search = RandomizedSearchCV(\n",
    "    estimator=knn,\n",
    "    param_distributions=knn_param_distributions,\n",
    "    n_iter=50,\n",
    "    cv=kfold,\n",
    "    n_jobs=-1,\n",
    "    random_state=42\n",
    ")"
   ]
  },
  {
   "cell_type": "code",
   "execution_count": null,
   "metadata": {
    "id": "oobcFIjw0kBJ"
   },
   "outputs": [],
   "source": [
    "# Fit models\n",
    "svc_search.fit(X_train_preprocessed, y_train)"
   ]
  },
  {
   "cell_type": "code",
   "execution_count": null,
   "metadata": {
    "colab": {
     "base_uri": "https://localhost:8080/",
     "height": 641
    },
    "id": "t0GSWmNNyOHE",
    "outputId": "bed9276e-45ae-4e4e-b3d4-3f7d5d6ce5bd"
   },
   "outputs": [
    {
     "name": "stderr",
     "output_type": "stream",
     "text": [
      "/usr/local/lib/python3.10/dist-packages/sklearn/model_selection/_search.py:307: UserWarning: The total space of parameters 9 is smaller than n_iter=50. Running 9 iterations. For exhaustive searches, use GridSearchCV.\n",
      "  warnings.warn(\n",
      "/usr/local/lib/python3.10/dist-packages/sklearn/model_selection/_validation.py:425: FitFailedWarning: \n",
      "15 fits failed out of a total of 45.\n",
      "The score on these train-test partitions for these parameters will be set to nan.\n",
      "If these failures are not expected, you can try to debug them by setting error_score='raise'.\n",
      "\n",
      "Below are more details about the failures:\n",
      "--------------------------------------------------------------------------------\n",
      "15 fits failed with the following error:\n",
      "Traceback (most recent call last):\n",
      "  File \"/usr/local/lib/python3.10/dist-packages/sklearn/model_selection/_validation.py\", line 729, in _fit_and_score\n",
      "    estimator.fit(X_train, y_train, **fit_params)\n",
      "  File \"/usr/local/lib/python3.10/dist-packages/sklearn/base.py\", line 1152, in wrapper\n",
      "    return fit_method(estimator, *args, **kwargs)\n",
      "  File \"/usr/local/lib/python3.10/dist-packages/sklearn/pipeline.py\", line 427, in fit\n",
      "    self._final_estimator.fit(Xt, y, **fit_params_last_step)\n",
      "  File \"/usr/local/lib/python3.10/dist-packages/sklearn/base.py\", line 1152, in wrapper\n",
      "    return fit_method(estimator, *args, **kwargs)\n",
      "  File \"/usr/local/lib/python3.10/dist-packages/sklearn/linear_model/_logistic.py\", line 1179, in fit\n",
      "    raise ValueError(\"l1_ratio must be specified when penalty is elasticnet.\")\n",
      "ValueError: l1_ratio must be specified when penalty is elasticnet.\n",
      "\n",
      "  warnings.warn(some_fits_failed_message, FitFailedWarning)\n",
      "/usr/local/lib/python3.10/dist-packages/sklearn/model_selection/_search.py:979: UserWarning: One or more of the test scores are non-finite: [0.66139706 0.65698529        nan 0.66176471 0.66139706        nan\n",
      " 0.66176471 0.66176471        nan]\n",
      "  warnings.warn(\n",
      "/usr/local/lib/python3.10/dist-packages/sklearn/linear_model/_sag.py:350: ConvergenceWarning: The max_iter was reached which means the coef_ did not converge\n",
      "  warnings.warn(\n"
     ]
    },
    {
     "data": {
      "text/html": [
       "<style>#sk-container-id-3 {color: black;}#sk-container-id-3 pre{padding: 0;}#sk-container-id-3 div.sk-toggleable {background-color: white;}#sk-container-id-3 label.sk-toggleable__label {cursor: pointer;display: block;width: 100%;margin-bottom: 0;padding: 0.3em;box-sizing: border-box;text-align: center;}#sk-container-id-3 label.sk-toggleable__label-arrow:before {content: \"▸\";float: left;margin-right: 0.25em;color: #696969;}#sk-container-id-3 label.sk-toggleable__label-arrow:hover:before {color: black;}#sk-container-id-3 div.sk-estimator:hover label.sk-toggleable__label-arrow:before {color: black;}#sk-container-id-3 div.sk-toggleable__content {max-height: 0;max-width: 0;overflow: hidden;text-align: left;background-color: #f0f8ff;}#sk-container-id-3 div.sk-toggleable__content pre {margin: 0.2em;color: black;border-radius: 0.25em;background-color: #f0f8ff;}#sk-container-id-3 input.sk-toggleable__control:checked~div.sk-toggleable__content {max-height: 200px;max-width: 100%;overflow: auto;}#sk-container-id-3 input.sk-toggleable__control:checked~label.sk-toggleable__label-arrow:before {content: \"▾\";}#sk-container-id-3 div.sk-estimator input.sk-toggleable__control:checked~label.sk-toggleable__label {background-color: #d4ebff;}#sk-container-id-3 div.sk-label input.sk-toggleable__control:checked~label.sk-toggleable__label {background-color: #d4ebff;}#sk-container-id-3 input.sk-hidden--visually {border: 0;clip: rect(1px 1px 1px 1px);clip: rect(1px, 1px, 1px, 1px);height: 1px;margin: -1px;overflow: hidden;padding: 0;position: absolute;width: 1px;}#sk-container-id-3 div.sk-estimator {font-family: monospace;background-color: #f0f8ff;border: 1px dotted black;border-radius: 0.25em;box-sizing: border-box;margin-bottom: 0.5em;}#sk-container-id-3 div.sk-estimator:hover {background-color: #d4ebff;}#sk-container-id-3 div.sk-parallel-item::after {content: \"\";width: 100%;border-bottom: 1px solid gray;flex-grow: 1;}#sk-container-id-3 div.sk-label:hover label.sk-toggleable__label {background-color: #d4ebff;}#sk-container-id-3 div.sk-serial::before {content: \"\";position: absolute;border-left: 1px solid gray;box-sizing: border-box;top: 0;bottom: 0;left: 50%;z-index: 0;}#sk-container-id-3 div.sk-serial {display: flex;flex-direction: column;align-items: center;background-color: white;padding-right: 0.2em;padding-left: 0.2em;position: relative;}#sk-container-id-3 div.sk-item {position: relative;z-index: 1;}#sk-container-id-3 div.sk-parallel {display: flex;align-items: stretch;justify-content: center;background-color: white;position: relative;}#sk-container-id-3 div.sk-item::before, #sk-container-id-3 div.sk-parallel-item::before {content: \"\";position: absolute;border-left: 1px solid gray;box-sizing: border-box;top: 0;bottom: 0;left: 50%;z-index: -1;}#sk-container-id-3 div.sk-parallel-item {display: flex;flex-direction: column;z-index: 1;position: relative;background-color: white;}#sk-container-id-3 div.sk-parallel-item:first-child::after {align-self: flex-end;width: 50%;}#sk-container-id-3 div.sk-parallel-item:last-child::after {align-self: flex-start;width: 50%;}#sk-container-id-3 div.sk-parallel-item:only-child::after {width: 0;}#sk-container-id-3 div.sk-dashed-wrapped {border: 1px dashed gray;margin: 0 0.4em 0.5em 0.4em;box-sizing: border-box;padding-bottom: 0.4em;background-color: white;}#sk-container-id-3 div.sk-label label {font-family: monospace;font-weight: bold;display: inline-block;line-height: 1.2em;}#sk-container-id-3 div.sk-label-container {text-align: center;}#sk-container-id-3 div.sk-container {/* jupyter's `normalize.less` sets `[hidden] { display: none; }` but bootstrap.min.css set `[hidden] { display: none !important; }` so we also need the `!important` here to be able to override the default hidden behavior on the sphinx rendered scikit-learn.org. See: https://github.com/scikit-learn/scikit-learn/issues/21755 */display: inline-block !important;position: relative;}#sk-container-id-3 div.sk-text-repr-fallback {display: none;}</style><div id=\"sk-container-id-3\" class=\"sk-top-container\"><div class=\"sk-text-repr-fallback\"><pre>RandomizedSearchCV(cv=KFold(n_splits=5, random_state=42, shuffle=True),\n",
       "                   estimator=Pipeline(steps=[(&#x27;clf&#x27;,\n",
       "                                              LogisticRegression(max_iter=1000))]),\n",
       "                   n_iter=50, n_jobs=-1,\n",
       "                   param_distributions={&#x27;clf__C&#x27;: [1, 10, 100],\n",
       "                                        &#x27;clf__penalty&#x27;: [&#x27;l2&#x27;, &#x27;l1&#x27;,\n",
       "                                                         &#x27;elasticnet&#x27;],\n",
       "                                        &#x27;clf__solver&#x27;: [&#x27;saga&#x27;]},\n",
       "                   random_state=42)</pre><b>In a Jupyter environment, please rerun this cell to show the HTML representation or trust the notebook. <br />On GitHub, the HTML representation is unable to render, please try loading this page with nbviewer.org.</b></div><div class=\"sk-container\" hidden><div class=\"sk-item sk-dashed-wrapped\"><div class=\"sk-label-container\"><div class=\"sk-label sk-toggleable\"><input class=\"sk-toggleable__control sk-hidden--visually\" id=\"sk-estimator-id-7\" type=\"checkbox\" ><label for=\"sk-estimator-id-7\" class=\"sk-toggleable__label sk-toggleable__label-arrow\">RandomizedSearchCV</label><div class=\"sk-toggleable__content\"><pre>RandomizedSearchCV(cv=KFold(n_splits=5, random_state=42, shuffle=True),\n",
       "                   estimator=Pipeline(steps=[(&#x27;clf&#x27;,\n",
       "                                              LogisticRegression(max_iter=1000))]),\n",
       "                   n_iter=50, n_jobs=-1,\n",
       "                   param_distributions={&#x27;clf__C&#x27;: [1, 10, 100],\n",
       "                                        &#x27;clf__penalty&#x27;: [&#x27;l2&#x27;, &#x27;l1&#x27;,\n",
       "                                                         &#x27;elasticnet&#x27;],\n",
       "                                        &#x27;clf__solver&#x27;: [&#x27;saga&#x27;]},\n",
       "                   random_state=42)</pre></div></div></div><div class=\"sk-parallel\"><div class=\"sk-parallel-item\"><div class=\"sk-item\"><div class=\"sk-label-container\"><div class=\"sk-label sk-toggleable\"><input class=\"sk-toggleable__control sk-hidden--visually\" id=\"sk-estimator-id-8\" type=\"checkbox\" ><label for=\"sk-estimator-id-8\" class=\"sk-toggleable__label sk-toggleable__label-arrow\">estimator: Pipeline</label><div class=\"sk-toggleable__content\"><pre>Pipeline(steps=[(&#x27;clf&#x27;, LogisticRegression(max_iter=1000))])</pre></div></div></div><div class=\"sk-serial\"><div class=\"sk-item\"><div class=\"sk-serial\"><div class=\"sk-item\"><div class=\"sk-estimator sk-toggleable\"><input class=\"sk-toggleable__control sk-hidden--visually\" id=\"sk-estimator-id-9\" type=\"checkbox\" ><label for=\"sk-estimator-id-9\" class=\"sk-toggleable__label sk-toggleable__label-arrow\">LogisticRegression</label><div class=\"sk-toggleable__content\"><pre>LogisticRegression(max_iter=1000)</pre></div></div></div></div></div></div></div></div></div></div></div></div>"
      ],
      "text/plain": [
       "RandomizedSearchCV(cv=KFold(n_splits=5, random_state=42, shuffle=True),\n",
       "                   estimator=Pipeline(steps=[('clf',\n",
       "                                              LogisticRegression(max_iter=1000))]),\n",
       "                   n_iter=50, n_jobs=-1,\n",
       "                   param_distributions={'clf__C': [1, 10, 100],\n",
       "                                        'clf__penalty': ['l2', 'l1',\n",
       "                                                         'elasticnet'],\n",
       "                                        'clf__solver': ['saga']},\n",
       "                   random_state=42)"
      ]
     },
     "execution_count": 34,
     "metadata": {},
     "output_type": "execute_result"
    }
   ],
   "source": [
    "logreg_search.fit(X_train_preprocessed, y_train)"
   ]
  },
  {
   "cell_type": "code",
   "execution_count": null,
   "metadata": {
    "colab": {
     "base_uri": "https://localhost:8080/",
     "height": 118
    },
    "id": "-eY6ZFIP0mr4",
    "outputId": "ca3dfb35-5163-41ea-8108-ab7f9007b56f"
   },
   "outputs": [
    {
     "data": {
      "text/html": [
       "<style>#sk-container-id-4 {color: black;}#sk-container-id-4 pre{padding: 0;}#sk-container-id-4 div.sk-toggleable {background-color: white;}#sk-container-id-4 label.sk-toggleable__label {cursor: pointer;display: block;width: 100%;margin-bottom: 0;padding: 0.3em;box-sizing: border-box;text-align: center;}#sk-container-id-4 label.sk-toggleable__label-arrow:before {content: \"▸\";float: left;margin-right: 0.25em;color: #696969;}#sk-container-id-4 label.sk-toggleable__label-arrow:hover:before {color: black;}#sk-container-id-4 div.sk-estimator:hover label.sk-toggleable__label-arrow:before {color: black;}#sk-container-id-4 div.sk-toggleable__content {max-height: 0;max-width: 0;overflow: hidden;text-align: left;background-color: #f0f8ff;}#sk-container-id-4 div.sk-toggleable__content pre {margin: 0.2em;color: black;border-radius: 0.25em;background-color: #f0f8ff;}#sk-container-id-4 input.sk-toggleable__control:checked~div.sk-toggleable__content {max-height: 200px;max-width: 100%;overflow: auto;}#sk-container-id-4 input.sk-toggleable__control:checked~label.sk-toggleable__label-arrow:before {content: \"▾\";}#sk-container-id-4 div.sk-estimator input.sk-toggleable__control:checked~label.sk-toggleable__label {background-color: #d4ebff;}#sk-container-id-4 div.sk-label input.sk-toggleable__control:checked~label.sk-toggleable__label {background-color: #d4ebff;}#sk-container-id-4 input.sk-hidden--visually {border: 0;clip: rect(1px 1px 1px 1px);clip: rect(1px, 1px, 1px, 1px);height: 1px;margin: -1px;overflow: hidden;padding: 0;position: absolute;width: 1px;}#sk-container-id-4 div.sk-estimator {font-family: monospace;background-color: #f0f8ff;border: 1px dotted black;border-radius: 0.25em;box-sizing: border-box;margin-bottom: 0.5em;}#sk-container-id-4 div.sk-estimator:hover {background-color: #d4ebff;}#sk-container-id-4 div.sk-parallel-item::after {content: \"\";width: 100%;border-bottom: 1px solid gray;flex-grow: 1;}#sk-container-id-4 div.sk-label:hover label.sk-toggleable__label {background-color: #d4ebff;}#sk-container-id-4 div.sk-serial::before {content: \"\";position: absolute;border-left: 1px solid gray;box-sizing: border-box;top: 0;bottom: 0;left: 50%;z-index: 0;}#sk-container-id-4 div.sk-serial {display: flex;flex-direction: column;align-items: center;background-color: white;padding-right: 0.2em;padding-left: 0.2em;position: relative;}#sk-container-id-4 div.sk-item {position: relative;z-index: 1;}#sk-container-id-4 div.sk-parallel {display: flex;align-items: stretch;justify-content: center;background-color: white;position: relative;}#sk-container-id-4 div.sk-item::before, #sk-container-id-4 div.sk-parallel-item::before {content: \"\";position: absolute;border-left: 1px solid gray;box-sizing: border-box;top: 0;bottom: 0;left: 50%;z-index: -1;}#sk-container-id-4 div.sk-parallel-item {display: flex;flex-direction: column;z-index: 1;position: relative;background-color: white;}#sk-container-id-4 div.sk-parallel-item:first-child::after {align-self: flex-end;width: 50%;}#sk-container-id-4 div.sk-parallel-item:last-child::after {align-self: flex-start;width: 50%;}#sk-container-id-4 div.sk-parallel-item:only-child::after {width: 0;}#sk-container-id-4 div.sk-dashed-wrapped {border: 1px dashed gray;margin: 0 0.4em 0.5em 0.4em;box-sizing: border-box;padding-bottom: 0.4em;background-color: white;}#sk-container-id-4 div.sk-label label {font-family: monospace;font-weight: bold;display: inline-block;line-height: 1.2em;}#sk-container-id-4 div.sk-label-container {text-align: center;}#sk-container-id-4 div.sk-container {/* jupyter's `normalize.less` sets `[hidden] { display: none; }` but bootstrap.min.css set `[hidden] { display: none !important; }` so we also need the `!important` here to be able to override the default hidden behavior on the sphinx rendered scikit-learn.org. See: https://github.com/scikit-learn/scikit-learn/issues/21755 */display: inline-block !important;position: relative;}#sk-container-id-4 div.sk-text-repr-fallback {display: none;}</style><div id=\"sk-container-id-4\" class=\"sk-top-container\"><div class=\"sk-text-repr-fallback\"><pre>RandomizedSearchCV(cv=KFold(n_splits=5, random_state=42, shuffle=True),\n",
       "                   estimator=KNeighborsClassifier(), n_iter=50, n_jobs=-1,\n",
       "                   param_distributions={&#x27;n_neighbors&#x27;: &lt;scipy.stats._distn_infrastructure.rv_discrete_frozen object at 0x79800e5b4700&gt;,\n",
       "                                        &#x27;p&#x27;: [1, 2],\n",
       "                                        &#x27;weights&#x27;: [&#x27;uniform&#x27;, &#x27;distance&#x27;]},\n",
       "                   random_state=42)</pre><b>In a Jupyter environment, please rerun this cell to show the HTML representation or trust the notebook. <br />On GitHub, the HTML representation is unable to render, please try loading this page with nbviewer.org.</b></div><div class=\"sk-container\" hidden><div class=\"sk-item sk-dashed-wrapped\"><div class=\"sk-label-container\"><div class=\"sk-label sk-toggleable\"><input class=\"sk-toggleable__control sk-hidden--visually\" id=\"sk-estimator-id-10\" type=\"checkbox\" ><label for=\"sk-estimator-id-10\" class=\"sk-toggleable__label sk-toggleable__label-arrow\">RandomizedSearchCV</label><div class=\"sk-toggleable__content\"><pre>RandomizedSearchCV(cv=KFold(n_splits=5, random_state=42, shuffle=True),\n",
       "                   estimator=KNeighborsClassifier(), n_iter=50, n_jobs=-1,\n",
       "                   param_distributions={&#x27;n_neighbors&#x27;: &lt;scipy.stats._distn_infrastructure.rv_discrete_frozen object at 0x79800e5b4700&gt;,\n",
       "                                        &#x27;p&#x27;: [1, 2],\n",
       "                                        &#x27;weights&#x27;: [&#x27;uniform&#x27;, &#x27;distance&#x27;]},\n",
       "                   random_state=42)</pre></div></div></div><div class=\"sk-parallel\"><div class=\"sk-parallel-item\"><div class=\"sk-item\"><div class=\"sk-label-container\"><div class=\"sk-label sk-toggleable\"><input class=\"sk-toggleable__control sk-hidden--visually\" id=\"sk-estimator-id-11\" type=\"checkbox\" ><label for=\"sk-estimator-id-11\" class=\"sk-toggleable__label sk-toggleable__label-arrow\">estimator: KNeighborsClassifier</label><div class=\"sk-toggleable__content\"><pre>KNeighborsClassifier()</pre></div></div></div><div class=\"sk-serial\"><div class=\"sk-item\"><div class=\"sk-estimator sk-toggleable\"><input class=\"sk-toggleable__control sk-hidden--visually\" id=\"sk-estimator-id-12\" type=\"checkbox\" ><label for=\"sk-estimator-id-12\" class=\"sk-toggleable__label sk-toggleable__label-arrow\">KNeighborsClassifier</label><div class=\"sk-toggleable__content\"><pre>KNeighborsClassifier()</pre></div></div></div></div></div></div></div></div></div></div>"
      ],
      "text/plain": [
       "RandomizedSearchCV(cv=KFold(n_splits=5, random_state=42, shuffle=True),\n",
       "                   estimator=KNeighborsClassifier(), n_iter=50, n_jobs=-1,\n",
       "                   param_distributions={'n_neighbors': <scipy.stats._distn_infrastructure.rv_discrete_frozen object at 0x79800e5b4700>,\n",
       "                                        'p': [1, 2],\n",
       "                                        'weights': ['uniform', 'distance']},\n",
       "                   random_state=42)"
      ]
     },
     "execution_count": 112,
     "metadata": {},
     "output_type": "execute_result"
    }
   ],
   "source": [
    "knn_search.fit(X_train_preprocessed, y_train)"
   ]
  },
  {
   "cell_type": "code",
   "execution_count": null,
   "metadata": {
    "id": "Bud4PrQQTeQo"
   },
   "outputs": [],
   "source": [
    "best_svc = svc_search.best_estimator_\n",
    "y_pred_svc = best_svc.predict(X_test_preprocessed)\n",
    "accuracy_svc = accuracy_score(y_test, y_pred_svc)\n",
    "classification_report_svc = classification_report(y_test, y_pred_svc)"
   ]
  },
  {
   "cell_type": "code",
   "execution_count": null,
   "metadata": {
    "colab": {
     "base_uri": "https://localhost:8080/"
    },
    "id": "XoTwM-lGuWD3",
    "outputId": "8fae44c6-fcf4-487b-fc2f-8f2124431174"
   },
   "outputs": [
    {
     "name": "stdout",
     "output_type": "stream",
     "text": [
      "Best SVC parameters: {'kernel': 'poly', 'degree': 3, 'C': 10}\n",
      "Best SVC accuracy: 0.6862696257820801\n",
      "SVC Classification Report:\n",
      "              precision    recall  f1-score   support\n",
      "\n",
      "           1       0.70      0.78      0.74      1898\n",
      "           2       0.64      0.65      0.64      3512\n",
      "           3       0.67      0.60      0.63      3029\n",
      "           4       0.55      0.72      0.63       32\n",
      "\n",
      "    accuracy                           0.69      8471\n",
      "   macro avg       0.64      0.69      0.66      8471\n",
      "weighted avg       0.68      0.69      0.68      8471\n",
      "\n"
     ]
    }
   ],
   "source": [
    "print(f'Best SVC parameters: {svc_search.best_params_}')\n",
    "print(f'Best SVC accuracy: {accuracy_svc}')\n",
    "print(f'SVC Classification Report:\\n{classification_report_svc}')"
   ]
  },
  {
   "cell_type": "code",
   "execution_count": null,
   "metadata": {
    "colab": {
     "base_uri": "https://localhost:8080/"
    },
    "id": "_iIK6W3ITeUG",
    "outputId": "ed63f9be-78e4-4ecb-a431-85ab5d29936f"
   },
   "outputs": [
    {
     "name": "stderr",
     "output_type": "stream",
     "text": [
      "/usr/local/lib/python3.10/dist-packages/sklearn/metrics/_classification.py:1471: UndefinedMetricWarning: Precision and F-score are ill-defined and being set to 0.0 in labels with no predicted samples. Use `zero_division` parameter to control this behavior.\n",
      "  _warn_prf(average, modifier, msg_start, len(result))\n",
      "/usr/local/lib/python3.10/dist-packages/sklearn/metrics/_classification.py:1471: UndefinedMetricWarning: Precision and F-score are ill-defined and being set to 0.0 in labels with no predicted samples. Use `zero_division` parameter to control this behavior.\n",
      "  _warn_prf(average, modifier, msg_start, len(result))\n",
      "/usr/local/lib/python3.10/dist-packages/sklearn/metrics/_classification.py:1471: UndefinedMetricWarning: Precision and F-score are ill-defined and being set to 0.0 in labels with no predicted samples. Use `zero_division` parameter to control this behavior.\n",
      "  _warn_prf(average, modifier, msg_start, len(result))\n"
     ]
    }
   ],
   "source": [
    "best_logreg = logreg_search.best_estimator_\n",
    "y_pred_logreg = best_logreg.predict(X_test_preprocessed)\n",
    "accuracy_logreg = accuracy_score(y_test, y_pred_logreg)\n",
    "classification_report_logreg = classification_report(y_test, y_pred_logreg)"
   ]
  },
  {
   "cell_type": "code",
   "execution_count": null,
   "metadata": {
    "colab": {
     "base_uri": "https://localhost:8080/"
    },
    "id": "LLBPI6fOtdsb",
    "outputId": "0c82d965-2196-4a87-8c65-743906cc38bf"
   },
   "outputs": [
    {
     "name": "stdout",
     "output_type": "stream",
     "text": [
      "Best Logistic Regression parameters: {'clf__solver': 'saga', 'clf__penalty': 'l2', 'clf__C': 10}\n",
      "Best Logistic Regression accuracy: 0.85331568140520\n",
      "Logistic Regression Classification Report:\n",
      "              precision    recall  f1-score   support\n",
      "\n",
      "           1       0.81      0.91      0.86       100\n",
      "           2       0.86      0.86      0.86       436\n",
      "           3       0.88      0.81      0.85       242\n",
      "           4       0.91      0.93      0.92       142\n",
      "\n",
      "    accuracy                           0.85       680\n",
      "   macro avg       0.87      0.83      0.85       680\n",
      "weighted avg       0.85      0.85      0.85       680\n",
      "\n"
     ]
    }
   ],
   "source": [
    "print(f'Best Logistic Regression parameters: {logreg_search.best_params_}')\n",
    "print(f'Best Logistic Regression accuracy: {accuracy_logreg}')\n",
    "print(f'Logistic Regression Classification Report:\\n{classification_report_logreg}')"
   ]
  },
  {
   "cell_type": "code",
   "execution_count": null,
   "metadata": {
    "colab": {
     "base_uri": "https://localhost:8080/"
    },
    "id": "hXQMaed0ymgV",
    "outputId": "558430ce-5771-44c3-ceeb-73d6a8baca0f"
   },
   "outputs": [
    {
     "name": "stderr",
     "output_type": "stream",
     "text": [
      "/usr/local/lib/python3.10/dist-packages/sklearn/metrics/_classification.py:1471: UndefinedMetricWarning: Precision and F-score are ill-defined and being set to 0.0 in labels with no predicted samples. Use `zero_division` parameter to control this behavior.\n",
      "  _warn_prf(average, modifier, msg_start, len(result))\n",
      "/usr/local/lib/python3.10/dist-packages/sklearn/metrics/_classification.py:1471: UndefinedMetricWarning: Precision and F-score are ill-defined and being set to 0.0 in labels with no predicted samples. Use `zero_division` parameter to control this behavior.\n",
      "  _warn_prf(average, modifier, msg_start, len(result))\n",
      "/usr/local/lib/python3.10/dist-packages/sklearn/metrics/_classification.py:1471: UndefinedMetricWarning: Precision and F-score are ill-defined and being set to 0.0 in labels with no predicted samples. Use `zero_division` parameter to control this behavior.\n",
      "  _warn_prf(average, modifier, msg_start, len(result))\n"
     ]
    }
   ],
   "source": [
    "best_knn = knn_search.best_estimator_\n",
    "y_pred_knn = best_knn.predict(X_test_preprocessed)\n",
    "accuracy_knn = accuracy_score(y_test, y_pred_knn)\n",
    "classification_report_knn = classification_report(y_test, y_pred_knn)"
   ]
  },
  {
   "cell_type": "code",
   "execution_count": null,
   "metadata": {
    "colab": {
     "base_uri": "https://localhost:8080/"
    },
    "id": "veMhpTEXt7ra",
    "outputId": "c0d5ef59-9fd9-4865-ec4f-63a9994f4121"
   },
   "outputs": [
    {
     "name": "stdout",
     "output_type": "stream",
     "text": [
      "Best KNeighbors parameters: {'n_neighbors': 40, 'p': 1, 'weights': 'distance'}\n",
      "Best KNeighbors accuracy: 0.7962696257820800\n",
      "KNeighbors Classification Report:\n",
      "              precision    recall  f1-score   support\n",
      "\n",
      "           1       0.75      0.85      0.80      1898\n",
      "           2       0.81      0.78      0.79      3512\n",
      "           3       0.79      0.74      0.76      3029\n",
      "           4       0.85      0.88      0.87       32\n",
      "\n",
      "    accuracy                           0.80      8471\n",
      "   macro avg       0.80      0.80      0.80      8471\n",
      "weighted avg       0.80      0.80      0.80      8471\n",
      "\n"
     ]
    }
   ],
   "source": [
    "print(f'Best KNeighbors parameters: {knn_search.best_params_}')\n",
    "print(f'Best KNeighbors accuracy: {accuracy_knn}')\n",
    "print(f'KNeighbors Classification Report:\\n{classification_report_knn}')"
   ]
  },
  {
   "cell_type": "code",
   "execution_count": null,
   "metadata": {
    "id": "4ND6WmUawcXd"
   },
   "outputs": [],
   "source": [
    "import numpy as np\n",
    "from sklearn.linear_model import LogisticRegression\n",
    "\n",
    "# Initialize the Logistic Regression model with specified parameters\n",
    "model = LogisticRegression(solver='saga', penalty='l2', C=10, max_iter=1000)\n",
    "\n",
    "model.fit(X_train_preprocessed, y_train)\n"
   ]
  },
  {
   "cell_type": "code",
   "execution_count": null,
   "metadata": {
    "id": "LxIsyrNWDNJ6"
   },
   "outputs": [],
   "source": []
  },
  {
   "cell_type": "markdown",
   "metadata": {
    "id": "IYXec4Z0xh6m"
   },
   "source": [
    "## Saving the model"
   ]
  },
  {
   "cell_type": "code",
   "execution_count": null,
   "metadata": {
    "id": "gfH8s4A-PKRY",
    "outputId": "203c75eb-e38c-4ac4-ac55-59a53c3cbf5f"
   },
   "outputs": [
    {
     "data": {
      "text/plain": [
       "['model.h5']"
      ]
     },
     "execution_count": 27,
     "metadata": {},
     "output_type": "execute_result"
    }
   ],
   "source": [
    "import joblib\n",
    "joblib.dump(preprocessor,'scaler.h5')\n",
    "joblib.dump(model,'model.h5')"
   ]
  }
 ],
 "metadata": {
  "accelerator": "TPU",
  "colab": {
   "gpuType": "V28",
   "provenance": []
  },
  "kernelspec": {
   "display_name": "Python 3",
   "language": "python",
   "name": "python3"
  },
  "language_info": {
   "codemirror_mode": {
    "name": "ipython",
    "version": 3
   },
   "file_extension": ".py",
   "mimetype": "text/x-python",
   "name": "python",
   "nbconvert_exporter": "python",
   "pygments_lexer": "ipython3",
   "version": "3.7.6"
  }
 },
 "nbformat": 4,
 "nbformat_minor": 1
}
